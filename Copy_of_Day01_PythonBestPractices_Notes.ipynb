{
  "nbformat": 4,
  "nbformat_minor": 0,
  "metadata": {
    "colab": {
      "provenance": []
    },
    "kernelspec": {
      "name": "python3",
      "display_name": "Python 3"
    },
    "language_info": {
      "name": "python"
    }
  },
  "cells": [
    {
      "cell_type": "markdown",
      "source": [
        "# Python Internship Introduction\n",
        "\n",
        "First we will understand the prerequisites needed for our Python Internship.  This comprehensive internship comprises the following key elements:\n",
        "\n",
        "> 1. **Sections -** There are a total of 6 sections to practice, and each section will span approximately 4 to 5 days.\n",
        "\n",
        "> 2. **Daily Practice -** Each day of the Bootcamp will include Practice Problems and Assignment Problems.\n",
        "\n",
        "> 3. **Assisted Practice  -**\n",
        "- Through Assisted Practice Programs you will get the **CODING GYAN** that is needed to solve the problem. Further every practice program will have **CODING FUNDAS** that are tips for better coding and **CODING TERMINOLOGIES** that have to be kept in mind which will also help to crack interviews.\n",
        "- The Practice Problems will be systematically broken down into steps, and each step will be thoroughly explained either in live workshops or through pre-recorded videos. Participants are expected to replicate and execute the practice problems as part of the learning process.\n",
        "\n",
        "> 4. **CODING QUIZ -** Every Day you will have to solve the coding quiz which are essentially the coding gyans and fundas you learnt while doing coding practice.\n",
        "\n",
        "> 5. **Self Practice -** Once you have learnt the correct way of practice through assisted practice of solving coding problems, your practice on the same on your own on new set of coding problems is self practice.\n",
        "\n",
        "This daily practice routine is crucial for developing efficient programming skills, preparing you for success in **BridgeLabz Selection Drives**, as well as other **Company Hiring Drives**."
      ],
      "metadata": {
        "id": "ClIvio70llo9"
      }
    },
    {
      "cell_type": "markdown",
      "source": [
        "## Prerequisites\n",
        "\n",
        "> **Any one can learn Python** so essentially build that mindset\n",
        "\n",
        "> Signup to  [**Google Collab**](https://colab.research.google.com/)\n",
        "\n",
        "> Bring your **laptop** to the Bootcamp, enabling you to actively engage in solving problems during the sessions. Ample time will be provided for you to copy the code.\n",
        "\n",
        "> Be ready to engage in **hands-on practice**.\n",
        "\n",
        "> Commit to completing **daily assignments**, which may require an additional 2 hours. This consistent practice is essential.\n",
        "\n",
        "> Try to execute code as it is being demonstrated\n",
        "\n",
        "> Each day of the Bootcamp will delve into a specific Python topic. We will solve programs during the class and provide assignments for you to work on after the session. Over the course of this 20-day Bootcamp, you will gain comprehensive knowledge of Python and programming.\n"
      ],
      "metadata": {
        "id": "STwkSEb_RmbD"
      }
    },
    {
      "cell_type": "markdown",
      "source": [
        "## Section 1: Elements of Programming Practice\n",
        "\n",
        "\n",
        "> **Day 1: Programming and Best Practices -** This is bit on theory side, but need to know what is a program, what are instructions, how programming construct execute the instructions and what are different programming constructs. Plus the most importing following the best coding practices  \n",
        "\n",
        "> **Day 2: Python Input & Output Stream -**  Writing basic programs to write to Standard Out i.e. the Terminal or Reading from Standard Input which is also the Terminal or Screen. All the programs will be written in Google Collab\n",
        "\n",
        "> **Day 3: Python Basic Data Types -** Writing programs using Python's built-in data types for manipulating strings, integers, real numbers, and booleans.\n",
        "\n",
        "> **Day 4: Python Control Flows** Writing Programs using Conditionals and Loops for control flow, including if, while, and for statements.\n",
        "\n",
        "\n"
      ],
      "metadata": {
        "id": "lswmNT3bez5z"
      }
    },
    {
      "cell_type": "markdown",
      "source": [
        "## Section 2: Python Functions Practice\n",
        "\n",
        "> **Day 5: Python Functions & Recursion Practice -** We will write programs to create functions with or without parameters along with calling the functions. We use functions whenever we need to perform the same task multiple times without writing the same code again. It can take arguments and returns the value. We also Functions when we want to make our code more redable.\n",
        "- **Recursive Functions -** A recursive function is a function that calls itself, again and again. We will write programs where it is needed to use recursion to solve the problem. For e.g. the factorial program, the best way to solve is to use recrusive function.\n",
        "\n",
        "> **Day 6: Python Modules Practice -** A module is a Python file that contains functions, definitions, and statements that can be included in other files within an application. The Python Modules can be standard built-in Python Modules or 3rd party modules or user defined modules. We will write programs to use and create Modules through a means of practice and assignment programs"
      ],
      "metadata": {
        "id": "JNZtRKjUmm_t"
      }
    },
    {
      "cell_type": "markdown",
      "source": [
        "## Section 3: Python Data Types Practice\n",
        "\n",
        "> **Day 7: Python List Practice -** Python boasts a versatile built-in list type referred to as \"list.\" Similar to strings, lists are pivotal in **storing multiple data in a single variable**. As a widely used data structure, we will craft programs to leverage list data structures and their built-in functions. Additionally, we will explore Python's Tuple Data Structure, which shares similarities with lists, but with a key distinction — Tuple is immutable, meaning its elements cannot be added, edited, or deleted once created.\n",
        "\n",
        "> **Day 8: Python String and RegEx Practice -** A string, **as a sequence of characters**, is a fundamental data type frequently used in various problem statements. During this session, we will delve into solving practice problems involving strings, exploring the application of Regular Expressions using Python's inbuilt string methods.\n",
        "\n",
        "> **Day 9: Python Set and Tuple Practice -** A set is similar to a list but consists of unique values. It's worth noting that the keys of a Python Dictionary Data type  form a set, each possessing a unique value. Additionally, we will explore Python's Tuple Data Structure, which shares similarities with lists, but with a key distinction — Tuple is immutable, meaning its elements cannot be added, edited, or deleted once created.\n",
        "\n",
        "> **Day 10: Python Dictionary Practice -** A Python dictionary is a collection of items that allows us to store data in `key: value` pairs. This is another useful data structure similar to `Map` used in Java. We will engage in writing programs to utilize dictionary data structures and their inherent functions.\n"
      ],
      "metadata": {
        "id": "UJEO9PscvYAE"
      }
    },
    {
      "cell_type": "markdown",
      "source": [
        "## Section 4: Python Object and Classes Practice\n",
        "\n",
        "> **Day 11 & 12: Python OOP using Classes and Objects Practice -** Python is a versatile programming language that supports various programming styles, including object-oriented programming (OOP) through the use of objects and classes. We will write programs where in we will use all the key features of OOP.\n"
      ],
      "metadata": {
        "id": "QcBtAnmtdgzi"
      }
    },
    {
      "cell_type": "markdown",
      "source": [
        "## Section 5: Python Data Structures and Algorithm Practice\n",
        "\n",
        "> **Day 13: Python Linked List Data Structure Practice -** In the context of Data Structures and Algorithms (DSA), we will intricately construct a Linked List Data Structure from the ground up within a dedicated module. This custom-built Linked List will be utilized in our practice programs, deliberately avoiding the use of any Python List features. Instead, we'll leverage these functionalities in a bespoke List class using Nodes that we'll create.\n",
        "\n",
        "> **Day 14: Python Stack and Queues Practice -** Continuing our exploration of DSA, we'll meticulously craft Stack and Queue structures from scratch. This involves implementing essential methods like push and pop for both Stack and Queues, entirely bypassing the use of any built-in Python collection modules. Our approach will involve constructing these structures from the ground up.\n",
        "\n",
        "> **Day 15: Python Sorting and Searching Algorithms Practice -** In this session, we will develop a module specifically dedicated to Sorting and Searching Algorithms. The implementations within this module will then be applied in our practice problems to reinforce understanding and application."
      ],
      "metadata": {
        "id": "X-1rB0JZhH8w"
      }
    },
    {
      "cell_type": "markdown",
      "source": [
        "## Section 6: Python IO Streams Practice\n",
        "\n",
        "> **Day 16: Python Exceptions Practice -** An exception is an unforeseen event that occurs during program execution at runtime, primarily consisting of Python built-in exceptions. Additionally, we have the capability to create user-defined exceptions. In this session, we will address problem statements that involve handling exceptions.\n",
        "\n",
        "> **Day 17: Python File IO Practice -** Python offers a range of functions for diverse file operations, collectively known as File Handling. Through practice problems, we will explore storing and retrieving data from files.\n",
        "\n",
        "> **Day 18: Python SQL Practice -** Utilizing sqlite and Google Colab, we will engage in hands-on practice problems to execute various SQL operations such as creating, populating, and querying a SQL database. This session aims to provide you with a reasonably good understanding of using Python for SQL operations.\n",
        "\n"
      ],
      "metadata": {
        "id": "Zbl1SdH1TrZZ"
      }
    },
    {
      "cell_type": "markdown",
      "source": [
        "# Day 1: Getting Started\n",
        "\n"
      ],
      "metadata": {
        "id": "tcfrroamXEEf"
      }
    },
    {
      "cell_type": "markdown",
      "source": [
        "## PROG 1: Hello World\n",
        "\n",
        "Ability to write Hello World to standard output console or terminal. Purpose of the Program is to get started\n",
        "\n",
        "<br> **CODING CONCEPTS**\n",
        "\n",
        "> **1: Hello World Program -** The initial program to write is always the 'Hello World.' A successful execution of this program, displaying 'Hello World' in the standard output, ensures that all the required environmental settings are in place.\n",
        "\n",
        "> **2: Standard Output (stdout) -** stdout is stand for Standard Output. It is represented by the stdout stream, which is frequently attached to the console or terminal. It makes it possible for programs to show the user information or results.\n",
        "\n",
        "> **3: Python Built-In Function print() -** The `print()` function in Python is a built-in function designed to output text enclosed in quotes to the standard output.\n",
        "\n",
        "> **4: Python Comments -** In Python programs, comments are indicated by the `#` symbol. These comments are ignored by the CPU during execution of the program.\n",
        "\n",
        "<br> **CODING PRACTICE**\n"
      ],
      "metadata": {
        "id": "Pqz3JLLK1_LQ"
      }
    },
    {
      "cell_type": "code",
      "source": [
        "# PROG 1: Hello World\n",
        "\n",
        "# Write the Assisted Practice Code Here\n",
        "\n",
        "print(\"Hello World\")\n"
      ],
      "metadata": {
        "id": "hoGL6sZf3jfK",
        "outputId": "c0d4985f-32f8-4217-ca05-0ee788a20430",
        "colab": {
          "base_uri": "https://localhost:8080/"
        }
      },
      "execution_count": null,
      "outputs": [
        {
          "output_type": "stream",
          "name": "stdout",
          "text": [
            "Hello World\n"
          ]
        }
      ]
    },
    {
      "cell_type": "markdown",
      "source": [
        "**CODING FUNDAS**\n",
        "\n",
        " > **1: Python Built-In Function -**\n",
        " - Python built-in functions are pre-defined functions that come bundled with Python and can be used directly in a Python program without importing external libraries.\n",
        " - Using built-in functions saves time and effort, as these functions are already implemented and optimized for various tasks. They provide a standardized and efficient way to accomplish common operations without having to write custom code for each task.\n",
        " - For e.g. The `print()` function is built-in function because the underlying logic for writing to the standard output stream is already implemented in the most efficient and optimized way.\n",
        "\n",
        " > **2: Good Coding Practices -** It is considered a good programming practice to include comments for each line or block of code. This ensures that the code can be easily understood and maintained, especially when modifications are made later.\n",
        "\n",
        " > **3: print(\"Hello World!\") or print('Hello World!') -** It doesn't matter whether you use **'single quotes'** or **\"double quotes\"** to print hello world text, the end result is the same.\n"
      ],
      "metadata": {
        "id": "n0l9lwPE3tnY"
      }
    },
    {
      "cell_type": "markdown",
      "source": [
        "<br>**CODING TERMINOLOGIES**\n",
        "\n",
        "---\n",
        "\n",
        "> **1: Hello World Program -** Always very first program to start the learning journey as well as to ensure all the environments are set properly.\n",
        "\n",
        "> **2: Standard Output (stdout) -** stdout stands for Standard Output stream which is frequently attached to the console or terminal to show the user outcome of running the program.\n",
        "\n",
        "> **3: Python Built-In Function -** Python Built-In functions are predefined, bundled, can be used directly, w/o import of any library. It is implemented, optimized to perform common task, such as print.\n",
        "\n",
        " > **4: Python help(print) -** `help(print)` is a python built-in function to learn more about other python built-in function, in this case `print()`.\n",
        "\n",
        "\n"
      ],
      "metadata": {
        "id": "jOU8knKQ6P4J"
      }
    },
    {
      "cell_type": "markdown",
      "source": [
        "# Day 1: Programming and Best Practices"
      ],
      "metadata": {
        "id": "MEOzZcqyJpp0"
      }
    },
    {
      "cell_type": "markdown",
      "source": [
        "## PROG 1: Adding 2 Numbers Practice\n",
        "\n",
        "Another simple program to get started with Python is a program to add 2 Numbers\n",
        "\n",
        "**CODIN CONCEPTS**\n",
        "\n",
        "> **What is a Program -** A program is a set of instructions that the computer executes using the CPU time to achieve the desire outcome.\n",
        "\n",
        "> **Main Hardware Component -**\n",
        "- CPU to runs a set of instructions\n",
        "- RAM Memory that works as a temporary storage\n",
        "- Hard Disk for file storage\n",
        "\n",
        "> **Demonstrate Programming Instructions -** Using the following program of adding two numbers, we will discuss\n",
        "- **Instructions -** Instructions are simply execution of statements. Every line of code is the statement. In Python the statement are first compiled to byte code and then byte code is converted to machine code which is then executed by the processor or the CPU\n",
        "- **Compile time Execution -** This involves Compilation to byte code\n",
        "- **Runtime Execution -**  This involves Conversion of Byte Code to Machine code by the Python Interpreter started by Main Thread. Post that Execution of Machine Code by the Processor or the CPU which involves computation, storage and IO operation by the python Main Thread\n",
        "- **Python Main Thread -** The main thread can be thought of as the default thread within your Python process. In normal conditions, the main thread is the thread from which the Python interpreter was started. The main thread in each Python process always has the name “MainThread” and is not a daemon or background thread\n"
      ],
      "metadata": {
        "id": "0izirD1-Ylgm"
      }
    },
    {
      "cell_type": "code",
      "source": [
        "# PROG 1: Adding 2 Numbers Practice\n",
        "\n",
        "# Write the Assisted Practice Code Here\n",
        "\n",
        "x=130\n",
        "y=123\n",
        "z=x+y\n",
        "print(\"the sum of\",x,\"and\",y,\"is\",z)"
      ],
      "metadata": {
        "id": "kYg1dQy27NGV",
        "colab": {
          "base_uri": "https://localhost:8080/"
        },
        "outputId": "44ac9563-4455-401c-9854-061a1acce2c8"
      },
      "execution_count": null,
      "outputs": [
        {
          "output_type": "stream",
          "name": "stdout",
          "text": [
            "the sum of 130 and 123 is 253\n"
          ]
        }
      ]
    },
    {
      "cell_type": "markdown",
      "source": [
        "<br> **CODIN FUNDAS**\n",
        "\n",
        "> **Python Code Execution -**The execution of the Python program involves:\n",
        "- **Compilation -** The program is converted into byte code.\n",
        "- **Interpreter -** The next step involves converting the byte code (.pyc file) into machine code.\n",
        "- **Execution -** This step involves execution of Machine code\n",
        "\n",
        "> **Compilation -** The program is converted into byte code at Compile Time.\n",
        "  - Byte code is a fixed set of instructions that represent arithmetic, comparison, memory operations, etc.\n",
        "  - It can run on any operating system and hardware.\n",
        "  - The byte code instructions are created in the `.pyc` file.\n",
        "  - The `.pyc` file is not explicitly created as Python handles it internally but it can be created  with the following command\n",
        "  `python3 -m py_compile add_number.py`\n",
        "  - In Macbook Pro the `.pyc` file is stored in `/Users/narayanmahadevan/Library/Caches/com.apple.python/Users/narayanmahadevan/Development/python/`\n",
        "  - To Display Byte Code we can use following command\n",
        "  `python3 -m dis add_number.py`\n",
        "\n",
        "> **Interpreter -** The next step involves converting the byte code (.pyc file) into machine code at Runtime.\n",
        "  - This step is necessary as the computer can understand only machine code (binary code).\n",
        "  - Python Virtual Machine (PVM) first understands the operating system and processor in the computer and then converts it into machine code.\n",
        "\n",
        "> **Execution -** Further, these machine code instructions are executed by processor and the results are displayed. Involves Computation, Storage and IO Operations.\n",
        "\n"
      ],
      "metadata": {
        "id": "XND74UVOEGAM"
      }
    },
    {
      "cell_type": "markdown",
      "source": [
        "<br> **PROG 1.1** Adding 2 Numbers with Print Format"
      ],
      "metadata": {
        "id": "Lb9oRbigPKdw"
      }
    },
    {
      "cell_type": "code",
      "source": [
        "# PROG 1.1 Adding 2 Numbers with Print Format\n",
        "\n",
        "# Write the Assisted Practice Code Here\n",
        "import threading\n",
        "print(f\"Main or Default Thread Name is {str(threading.current_thread().name)}\")\n",
        "x=130\n",
        "y=123\n",
        "z=x+y\n",
        "print(f\"the sum of {x} and {y} is {z}\")\n"
      ],
      "metadata": {
        "id": "E53iV5UdIsU8",
        "colab": {
          "base_uri": "https://localhost:8080/"
        },
        "outputId": "ff77578b-0690-475c-e856-5d0ad2cf62ae"
      },
      "execution_count": null,
      "outputs": [
        {
          "output_type": "stream",
          "name": "stdout",
          "text": [
            "Main or Default Thread Name is MainThread\n",
            "the sum of 130 and 123 is 253\n"
          ]
        }
      ]
    },
    {
      "cell_type": "markdown",
      "source": [
        "<br> **PROG 1.2** Adding 2 Numbers Measuring Time"
      ],
      "metadata": {
        "id": "0XWYgP0tQhvd"
      }
    },
    {
      "cell_type": "code",
      "source": [
        "# PROG 1.2 Adding 2 Numbers Measuring Time\n",
        "\n",
        "# Write the Assisted Practice Code Here\n",
        "# Please ensure output as shown below\n",
        "\n",
        "import time\n",
        "\n",
        "x=100\n",
        "y=100\n",
        "z=x+y\n",
        "start_time= time.time()\n",
        "print(\"the sum of\",x,\"and\",y,\"is\",z)\n",
        "print(\"---%s micro seconds\" % ((time.time()-start_time)*10**6))\n",
        "\n",
        "start_time=time.time()\n",
        "print(f\"the sum of {x} and {y} is {z}\")\n",
        "print(\"---%s micro seconds\" % ((time.time()-start_time)*10**6))\n"
      ],
      "metadata": {
        "colab": {
          "base_uri": "https://localhost:8080/"
        },
        "id": "jYzt4k-kbgVW",
        "outputId": "b80d9271-894a-41eb-b513-5032dbc7fee5"
      },
      "execution_count": null,
      "outputs": [
        {
          "output_type": "stream",
          "name": "stdout",
          "text": [
            "the sum of 100 and 100 is 200\n",
            "---210.76202392578125 micro seconds\n",
            "the sum of 100 and 100 is 200\n",
            "---114.91775512695312 micro seconds\n"
          ]
        }
      ]
    },
    {
      "cell_type": "markdown",
      "source": [
        "<br> **CODIN TALKING POINTS**\n",
        "\n",
        "> **1: Program -** A Program is a set of Instructions and each Instruction is a line of code containing Programming Statement\n",
        "\n",
        "> **2: Compile Time Execution -** Compile time execution involves compilation of Python code to Byte Code\n",
        "\n",
        "> **3: Runtime Execution -** Runtime Execution involves creating a Python VM and based on CPU and OS conversion of Byte Code to Machine Code by Python Interpreter\n",
        "\n",
        "> **4: Main Thread -** Main Thread is the default thread and is involved in creating the VM, using Python Interpreter to create Machine Code and Execution\n",
        "\n",
        "> **5: Compilation -** Python Compilation involves converting the Python code to Byte code, recognizing the arithmatic operation, comparison, memory operation, etc. Invisible step but can create `.pyc` file or can display byte code.\n",
        "\n",
        "> **6: Interpreter -** Python Interpreter is run by the Main Thread in the Python VM and involves conversion of Byte Code to Machine code based on CPU and OS\n",
        "\n",
        "> **7: Execution -** Final execution of Machine code involves CPU time, RAM Memory Storage and IO calls\n"
      ],
      "metadata": {
        "id": "WnSpNESWUaJt"
      }
    },
    {
      "cell_type": "markdown",
      "source": [
        "## PROG 2: Descriptive Variable Name Practice\n",
        "\n",
        "This program is part of **Good Programming Habits** to have a proper descriptive variable name\n",
        "\n",
        "<br> **CODIN CONCEPTS**\n",
        "\n",
        "> **1: Python Variables -** A variable is simply a name given to a memory location that holds the value assigned to the variable.\n",
        "- The variable can be used anywhere in the program based on variable scope.\n",
        "- Variables are named with lowercase with underscore to seperate words.\n",
        "- Every Python Variable is an Object having unique Memory Id and Space\n",
        "\n",
        "> **2: Python Variable Scope -** In Python, we can declare variables in three different scopes: local scope, global scope, and nonlocal scope. The details of variable scope will be discussed in control flows, functions, classes, etc.\n",
        "\n",
        "> **3: Python Operator -** Operators are special symbols that perform operations on variables and values. They are\n",
        "1. Arithmetic Operators like `+`, `-`, `*`,...\n",
        "2. Assignment Operator `=` used in assigning value to a variable\n",
        "3. Comparison Operator to compare 2 values like `==`, `!=`, ...\n",
        "4. Logical Operator used in expression `and`, `or`, and `not`\n",
        "5. Bitwise operators for bit operations `&`, `|`,...\n",
        "6. Special Operators for memory comparison like `is` & `is not`\n"
      ],
      "metadata": {
        "id": "X7ri3RNatX3v"
      }
    },
    {
      "cell_type": "markdown",
      "source": [
        "<br> **PROG 2: Descriptive Variable Name -** Variable names should be descriptive with lowercase and seperated by words"
      ],
      "metadata": {
        "id": "i2w19QGMcmQj"
      }
    },
    {
      "cell_type": "code",
      "source": [
        "# PROG 2: Descriptive Variable Name\n",
        "\n",
        "\n",
        "# Write the Assisted Practice Code Here\n",
        "# Please ensure output as shown below\n",
        "x=10\n",
        "y=20\n",
        "z=x+y\n",
        "print(f\"The value z is {z}\")\n",
        "\n",
        "total_sum=10\n",
        "bonus_points=20\n",
        "final_score=total_sum+bonus_points\n",
        "print(f\"Final score is {final_score}\")"
      ],
      "metadata": {
        "colab": {
          "base_uri": "https://localhost:8080/"
        },
        "id": "G7NLaXmUcksx",
        "outputId": "51ba760b-aeb1-43e7-d831-255cd0a012cc"
      },
      "execution_count": null,
      "outputs": [
        {
          "output_type": "stream",
          "name": "stdout",
          "text": [
            "The value z is 30\n",
            "Final score is 30\n"
          ]
        }
      ]
    },
    {
      "cell_type": "markdown",
      "source": [
        "<br> **CODIN TALKING POINTS**\n",
        "\n",
        "> **1: Python Variables -** A variable is simply a name given to a memory location that holds the value assigned to the variable.\n",
        "\n",
        "> **2: Python Variable Scope -** In Python, we can declare variables in three different scopes: local scope, global scope, and nonlocal scope.\n",
        "\n",
        "> **3: Python Operator -** Operators are special symbols that perform operations on variables and values. They are Arithmatic Operator, Assignment Operator, etc\n"
      ],
      "metadata": {
        "id": "4YF1ulDaqWip"
      }
    },
    {
      "cell_type": "markdown",
      "source": [
        "## PROG 3: Embracing Modularization Practice\n",
        "\n",
        "Writing monolithic scripts without breaking code into reusable functions or classes can make code difficult to test, debug, and maintain.\n",
        "\n",
        "<br> **CODIN CONCEPTS**\n",
        "\n",
        "> **1: Modularization -** This can be achieved using function block, class, module, package, etc\n",
        "\n",
        "> **2: Python Blocks -** Python uses indentation to define a block of code. This block of code could be\n",
        "- Python Function `def func():`\n",
        "- Python Condition Blocks `if True :` `while True : `\n",
        "- Python Loops `for :` `while :`\n",
        "- Python `try:` `except:` Exception Blocks\n",
        "\n",
        "> **3: Python Functions -** A function is a block of code which only runs when it is called. You can pass data, known as parameters, into a function. In Python, Indentation is crucial as it defines the block of code.\n",
        "\n"
      ],
      "metadata": {
        "id": "zmeqVqVQ0s-q"
      }
    },
    {
      "cell_type": "markdown",
      "source": [
        "<br> **PROG 3: Define Function -** Use Function block for reuable code like the add fucntion defined here."
      ],
      "metadata": {
        "id": "iS_8Dt5334A-"
      }
    },
    {
      "cell_type": "markdown",
      "source": [],
      "metadata": {
        "id": "T3TKr19CPT5G"
      }
    },
    {
      "cell_type": "code",
      "source": [
        "# PROG 3: Define Function\n",
        "\n",
        "\n",
        "# Write the Assisted Practice Code Here\n",
        "# Please ensure output as shown below\n",
        "x=10\n",
        "y=20\n",
        "z=x+y\n",
        "print(f\"The value z is {z}\")\n",
        "\n",
        "def add(x,y):\n",
        "  return x+y\n",
        "\n",
        "total_sum=10\n",
        "bonus_points=20\n",
        "final_score=add(total_sum,bonus_points)\n",
        "print(f\"Final score is {final_score}\")"
      ],
      "metadata": {
        "colab": {
          "base_uri": "https://localhost:8080/"
        },
        "id": "Unj6V6Dp27b6",
        "outputId": "26b979cb-ead3-4290-fa49-96799e4b5f08"
      },
      "execution_count": null,
      "outputs": [
        {
          "output_type": "stream",
          "name": "stdout",
          "text": [
            "The value z is 30\n",
            "Final score is 30\n"
          ]
        }
      ]
    },
    {
      "cell_type": "markdown",
      "source": [
        "<br> **CODIN TALKING POINTS**\n",
        "\n",
        "> **1: Modularization -** Modularization of code is a good practice. This can be achieved using function block, class, module, package, etc\n",
        "\n",
        "> **2: Python Blocks -** Python block of code could be Function Block, Condition Block, Loop Block, try and except block, etc. Python uses indentation to define a block of code.\n",
        "\n",
        "> **3: Python Functions -** A function is a block of code which only runs when it is called.\n"
      ],
      "metadata": {
        "id": "tYCQPAkRvxhG"
      }
    },
    {
      "cell_type": "markdown",
      "source": [
        "## PROG 4: Proper Function Usage Practice\n",
        "\n",
        "This program is defining Function Block with proper indentation, comments and proper use of global variables\n",
        "\n",
        "<br> **CODING CONCEPTS**\n",
        "\n",
        "> **1: Python Function Parameters -** By default function parameter is of `any` type, it is good programming practice if possible annotate with proper data type.\n",
        "\n",
        "> **2: Data Types -** In the realm of computer programming, data types define the nature of data that can be stored in memory for a variable. In Python Data Types are implicitly assigned. For Python all built-in data types belongs to Python class. They can be categorized as either\n",
        "- **Primitive Data Types -** int, float, str, bool\n",
        "- **Derived Data Types -** list, dict, set, tuple\n",
        "\n",
        "> **3: Operator Overloading -** Same Python Operator having two different behaviors\n",
        "\n",
        "> **4: New Line -** In many programming language including Python the string `\"\\n\"` indicates the new line and hence takes the cursor to new line. Used  typically in `print()` function\n",
        "\n",
        "\n",
        "\n"
      ],
      "metadata": {
        "id": "oohJVnLmvO7Z"
      }
    },
    {
      "cell_type": "markdown",
      "source": [
        "<br> **PROG 4.1 Proper Function Usage -** Defining Function Block with proper indentation, comments and proper use of global variables"
      ],
      "metadata": {
        "id": "s-Z24V6DhuHn"
      }
    },
    {
      "cell_type": "code",
      "source": [
        "# PROG 4.1 Proper Function Usage\n",
        "\n",
        "\n",
        "# Write the Assisted Practice Code Here\n",
        "# Please ensure output as shown below\n",
        "\n",
        "def calc(y):\n",
        "  return total_sum+y\n",
        "\n",
        "def calculate_sum(x,y):\n",
        "  return x+y\n",
        "\n",
        "total_sum=10\n",
        "bonus_points=20\n",
        "final_score=calculate_sum(total_sum,bonus_points)\n",
        "print(f\"Final score is {final_score}\")\n"
      ],
      "metadata": {
        "colab": {
          "base_uri": "https://localhost:8080/"
        },
        "id": "ZIp3-Lk3eXol",
        "outputId": "b9d32db2-2745-4f18-8a70-8631e4f00326"
      },
      "execution_count": null,
      "outputs": [
        {
          "output_type": "stream",
          "name": "stdout",
          "text": [
            "Final score is 30\n"
          ]
        }
      ]
    },
    {
      "cell_type": "markdown",
      "source": [
        "<br> **PROG 4.2: Function Parameter Type Annotation -** By default function parameter is of any type, if possible annotate with proper type."
      ],
      "metadata": {
        "id": "3Y-hr0U4jw9t"
      }
    },
    {
      "cell_type": "code",
      "source": [
        "# PROG 4.2: Function Parameter Type Annotation\n",
        "\n",
        "\n",
        "# Write the Assisted Practice Code Here\n",
        "# Please ensure output as shown below\n",
        "\n",
        "def calc(y):\n",
        "  return total_sum+y\n",
        "\n",
        "def calculate_sum(x:int, y:int):\n",
        "  return x+y\n",
        "\n",
        "total_sum=10\n",
        "bonus_points=20\n",
        "print(f\"Data Type of total_sum is {type(total_sum)}and \\n\"+ f\"bonus_points is {type(bonus_points)}\")\n",
        "final_score=calculate_sum(total_sum,bonus_points)\n",
        "print(f\"Final score is {final_score}\")\n"
      ],
      "metadata": {
        "colab": {
          "base_uri": "https://localhost:8080/"
        },
        "id": "WF5aIx24jxdD",
        "outputId": "0c582fa9-f30c-47c0-de01-dbbc0aa68b3f"
      },
      "execution_count": null,
      "outputs": [
        {
          "output_type": "stream",
          "name": "stdout",
          "text": [
            "Data Type of total_sum is <class 'int'>and \n",
            "bonus_points is<class 'int'>\n",
            "Final score is 30\n"
          ]
        }
      ]
    },
    {
      "cell_type": "markdown",
      "source": [
        "<br> **CODIN TAKING POINTS**\n",
        "\n",
        "> **1: Python Functions Parameter -** You can pass data to function, known as parameters, by default it is any, good practice to have specific data type\n",
        "\n",
        "> **2: Data Types -** Data types define the kind of data that can be stored in memory for a variable. In Python Data Types are implicitly assigned. For Python all built-in data types belongs to Python class. They can be categorized as either Primitive Data Types - int, float, str, bool or Derived Data Types - list, dict, set, tuple.\n",
        "\n",
        "> **3: Operator Overloading -** Same Python Operator having two different behaviors\n"
      ],
      "metadata": {
        "id": "hJr1uNurxWw-"
      }
    },
    {
      "cell_type": "markdown",
      "source": [
        "## PROG 5: Proper Hard Coding Practice\n",
        "\n",
        "The programs here will demonstrate the places to avoid and use hard coding\n",
        "\n",
        "<br> **CODIN CONCEPTS**\n",
        "\n",
        "> **1: Hard Coding -** A part of the code that has been declared as unchanging. Hard coded varibales are named with complete upper case seperated by underscore to join words\n",
        "- It might solve the problem for the timing but offers less flexibility for future changes.\n",
        "- Only should be used where the value is permanantly fixed like PI = 3.14159265359\n",
        "\n",
        "> **2: Python Built-In input() Function -** The `input()` function is a Python built-in function designed to receive user input from the standard input. When the user types and presses the return key, the input provided by the user is captured.\n",
        "\n",
        "> **3: Standard Input -** Standard input (stdin) is a commonly used term in programming, denoting the default input device that a program utilizes to retrieve data. Typically, this is the keyboard, but it can also be a file or another input device.\n",
        "\n",
        "> **4: Type Casting -** Type Casting is the method to convert the Python variable datatype into a certain data type in order to perform the required operation by users. There can be two types of Type Casting in Python:\n",
        "- **Python Implicit Type Conversion** - In implicit type conversion, Python automatically generates the data type for the variable. In the example  `total_sum = 10` the data type of total_sum can be found using `type(total_sum)` and it will `int` class\n",
        "- **Python Explicit Type Conversion** - Explicit type conversion is achieved through Python's built-in functions such as `int()`, `float()`, and `str()`.\n",
        "\n"
      ],
      "metadata": {
        "id": "-yrzOErWyZ--"
      }
    },
    {
      "cell_type": "markdown",
      "source": [
        "<br> **PROG 5.1: Hard Coding Values -** Hardcoding values within your code can make maintenance and scalability challenging. Use constants or configuration files instead"
      ],
      "metadata": {
        "id": "JGCvUfvkB16w"
      }
    },
    {
      "cell_type": "code",
      "source": [
        "# PROG 5.1: Hard Coding Values\n",
        "\n",
        "\n",
        "# Write the Assisted Practice Code Here\n",
        "# Please ensure output as shown below\n",
        "\n",
        "def calculate_area(radius):\n",
        "  return 3.14*radius**2\n",
        "\n",
        "PI = 3.14\n",
        "def calculate_area(radius):\n",
        "  return PI * radius ** 2\n",
        "\n",
        "radius = 2\n",
        "print(f\"Area of circle with radius {radius} is {calculate_area(radius)}\")\n"
      ],
      "metadata": {
        "colab": {
          "base_uri": "https://localhost:8080/"
        },
        "id": "d21pPHG9BTKn",
        "outputId": "79a0785b-18c8-42d9-b2d3-5995fc6dfe73"
      },
      "execution_count": null,
      "outputs": [
        {
          "output_type": "stream",
          "name": "stdout",
          "text": [
            "Area of circle with radius 2 is 12.56\n"
          ]
        }
      ]
    },
    {
      "cell_type": "markdown",
      "source": [
        "<br> **PROG 5.2 Remove Hard Coding -** Here we remove the hard coding for `total_sum` and `bonus_points` using python built-in `input()` function"
      ],
      "metadata": {
        "id": "ewiC1G0p4fEz"
      }
    },
    {
      "cell_type": "code",
      "source": [
        "# PROG 5.2 Remove Hard Coding\n",
        "\n",
        "\n",
        "# Write the Assisted Practice Code Here\n",
        "# Please ensure output as shown below\n",
        "def calculate_sum(x:int,y:int):\n",
        "  return x+y\n",
        "\n",
        "total_sum = input(\"Enter value for total sum \")\n",
        "bonus_points = input(\"Enter value for bonus points \")\n",
        "print(f\"Data Type of total_sum is {type(total_sum)}and \\n\"+ f\"bonus_points is {type(bonus_points)}\")\n",
        "final_score=calculate_sum(total_sum,bonus_points)\n",
        "print(f\"Final score is {final_score}\")\n"
      ],
      "metadata": {
        "colab": {
          "base_uri": "https://localhost:8080/"
        },
        "id": "FWyYJKH_4tp_",
        "outputId": "0d3c489b-52aa-4f50-cfef-03c787350f6e"
      },
      "execution_count": null,
      "outputs": [
        {
          "output_type": "stream",
          "name": "stdout",
          "text": [
            "Enter value for total sum 10\n",
            "Enter value for bonus points 20\n",
            "Data Type of total_sum is <class 'str'>and \n",
            "bonus_points is <class 'str'>\n",
            "Final score is 1020\n"
          ]
        }
      ]
    },
    {
      "cell_type": "markdown",
      "source": [
        "<br> **PROG 5.3 Handling Type Conversion -** This program is Handling Type Conversion to get proper final_score"
      ],
      "metadata": {
        "id": "NsHHSMXZ6J2H"
      }
    },
    {
      "cell_type": "code",
      "source": [
        "# PROG 5.3 Handling Type Conversion\n",
        "\n",
        "\n",
        "# Write the Assisted Practice Code Here\n",
        "# Please ensure output as shown below\n",
        "def calculate_sum(x:int,y:int):\n",
        "  return x+y\n",
        "\n",
        "total_sum = int(input(\"Enter value for total sum \"))\n",
        "bonus_points = int(input(\"Enter value for bonus points \"))\n",
        "print(f\"Data Type of total_sum is {type(total_sum)}and \\n\"+ f\"bonus_points is {type(bonus_points)}\")\n",
        "final_score=calculate_sum(total_sum,bonus_points)\n",
        "print(f\"Final score is {final_score}\")"
      ],
      "metadata": {
        "colab": {
          "base_uri": "https://localhost:8080/"
        },
        "id": "uodDp6Sp6aAn",
        "outputId": "89ebfdf3-3d9f-4e8b-882b-576608be0a5d"
      },
      "execution_count": null,
      "outputs": [
        {
          "output_type": "stream",
          "name": "stdout",
          "text": [
            "Enter value for total sum 10\n",
            "Enter value for bonus points 20\n",
            "Data Type of total_sum is <class 'int'>and \n",
            "bonus_points is <class 'int'>\n",
            "Final score is 30\n"
          ]
        }
      ]
    },
    {
      "cell_type": "markdown",
      "source": [
        "<br> **CODIN TALKING POINTS**\n",
        "\n",
        "> **1: Hard Coding -** Avoided makes code less flixible for future. Should be used where it is not going to be changed ever like value of PI = 3.14159265359\n",
        "\n",
        "> **2: Python Built-In input() Function -** The `input()` function is a Python built-in function designed to receive user input from the standard input.\n",
        "\n",
        "> **3: Standard Input -** Standard input (stdin) is a commonly used term in programming, denoting the default input device that a program utilizes to retrieve data. Typically, this is the keyboard, but it can also be a file or another input device.\n",
        "\n",
        "> **4: Type Casting -** Type Casting is the method to convert the Python variable datatype into a certain data type in order to perform the required operation by users. There can be two types of Type Casting in Python:\n"
      ],
      "metadata": {
        "id": "xXR4bcES0hOE"
      }
    },
    {
      "cell_type": "markdown",
      "source": [
        "## PROG 6: Handling Exceptions Practice\n",
        "\n",
        "The program here will demonstrate handling exception properly\n",
        "\n",
        "<br> **CODIN CONCEPTS**\n",
        "\n",
        "> **1: Python Error Handling -** When an error or exception occurs mainly at runtime, Python will normally stop and generate an error message. Handling of such error or exceptions during program execution is called Error Handling.\n",
        "\n",
        "> **2: Python Runtime Errors -**\n",
        "- Errors that occur at runtime (after passing the syntax test) are called exceptions or runtime errors.\n",
        "- Whenever these types of runtime errors occur, Python creates an exception object.\n",
        "- These exception can be handled using the `try:` and `except:` block in Python\n",
        "- If not handled properly, it prints a traceback to that error along with some details about why that error occurred.\n",
        "\n",
        "> **3: Python `try:` and `except: ` Block -** Python executes code in the `try:` block as a “normal” part of the program. In case of any error, the code in the the `except:` block is executed\n",
        "\n",
        "> **4: Python Built-In Errors -**\n",
        "- Whenever runtime errors occur, Python creates an exception object of Built-In Error class.\n",
        "- Its a good coding practice to catch the exact error like the `ValueError`, `NameError`, `TypeError` etc\n",
        "- For e.g. `except ValueError as err:` the `ValueError` is captured in `err` variable to understand the error message\n",
        "- So generally there are atleast two `except:` blocks, the first one captures the most likely error and the second captures all the remaining error\n",
        "- The `except:` block without exception object must be the last block after all the specific errors except blocks and before the `else:` block\n",
        "- Its also a good coding practice to use `else:` block to execute only when there are no errors in `try:` block\n",
        "\n",
        "> **5: Benefits of Error Handling -** Its a good user experience to catch the error and end the program gracefully. So inspite of any error the program ends with a graceful message\n"
      ],
      "metadata": {
        "id": "hKpBpSQSsPuE"
      }
    },
    {
      "cell_type": "markdown",
      "source": [
        "<br> **PROG 6.1 Handling User Error -** This program demonstrates handling bad input error"
      ],
      "metadata": {
        "id": "eHF4B0dQ-z0d"
      }
    },
    {
      "cell_type": "code",
      "source": [
        "# PROG 6.1 Handling User Error\n",
        "\n",
        "\n",
        "# Write the Assisted Practice Code Here\n",
        "# Please ensure output as shown below\n",
        "def calculate_sum(x:int,y:int):\n",
        "  return x+y\n",
        "\n",
        "try:\n",
        " total_sum = int(input(\"Enter value for total sum \"))\n",
        " bonus_points = int(input(\"Enter value for bonus points \"))\n",
        " print(f\"Data Type of total_sum is {type(total_sum)}and \\n\"+ f\"bonus_points is {type(bonus_points)}\")\n",
        " final_score=calculate_sum(total_sum,bonus_points)\n",
        " print(f\"Final score is {final_score}\")\n",
        "except:\n",
        "  print(\"Try again and enter a proper value\")"
      ],
      "metadata": {
        "colab": {
          "base_uri": "https://localhost:8080/"
        },
        "id": "HHu64Uqe-t2o",
        "outputId": "a37cddd2-cbea-4c94-a3d0-671cf883bd76"
      },
      "execution_count": null,
      "outputs": [
        {
          "output_type": "stream",
          "name": "stdout",
          "text": [
            "Enter value for total sum abc\n",
            "Try again and enter a proper value\n"
          ]
        }
      ]
    },
    {
      "cell_type": "markdown",
      "source": [
        "<br> **6.2 Handling Exact User Error -** The following program handles the exact error that occurred during the program"
      ],
      "metadata": {
        "id": "eGxpd_5VAH2c"
      }
    },
    {
      "cell_type": "code",
      "source": [
        "# 6.2 Handling Exact User Error\n",
        "\n",
        "\n",
        "# Write the Assisted Practice Code Here\n",
        "# Please ensure output as shown below\n",
        "def calculate_sum(x:int,y:int):\n",
        "  return x+y\n",
        "\n",
        "try:\n",
        " total_sum = int(input(\"Enter value for total sum \"))\n",
        " bonus_points = int(input(\"Enter value for bonus points \"))\n",
        " print(f\"Data Type of total_sum is {type(total_sum)}and \\n\"+ f\"bonus_points is {type(bonus_points)}\")\n",
        " final_score=calculate_sum(total_sum,bonus_points)\n",
        " print(f\"Final score is {final_score}\")\n",
        "except ValueError as err:\n",
        "  print(f\"Oops! Got Error:{err}, \\nThat was no valid input. Try again...\")\n",
        "except:\n",
        "  print(\"Try again and enter a proper value\")\n"
      ],
      "metadata": {
        "colab": {
          "base_uri": "https://localhost:8080/"
        },
        "id": "YewGKWFMAAAU",
        "outputId": "9db82e09-24bd-4a3f-ff52-b204bdbaabc4"
      },
      "execution_count": null,
      "outputs": [
        {
          "output_type": "stream",
          "name": "stdout",
          "text": [
            "Enter value for total sum nnn\n",
            "Oops! Got Error:invalid literal for int() with base 10: 'nnn', \n",
            "That was no valid input. Try again...\n"
          ]
        }
      ]
    },
    {
      "cell_type": "markdown",
      "source": [
        "<br> **CODIN TALKING POINTS**\n",
        "\n",
        "> **1: Python Error Handling -** When an error or exception occurs mainly at runtime, Python will normally stop and generate an error message. Handling of such error or exceptions during program execution is called Error Handling.\n",
        "\n",
        "> **2: Python Runtime Errors -** Errors that occur at runtime (after passing the syntax test) are called exceptions or runtime errors. Python creats exception object of well defined Errors like ValueError, NameError, etc. Its important to except both specific error and generic error\n",
        "\n",
        "> **3: Python `try:` and `except: ` Block -** Python executes code in the `try:` block as a “normal” part of the program. In case of any error, the code in the the `except:` block is executed\n"
      ],
      "metadata": {
        "id": "rRry3VA2j0A6"
      }
    },
    {
      "cell_type": "markdown",
      "source": [
        "## BEST PROGRAMMING PRACTICE\n",
        "\n",
        "> **1: Python String Format -** Using Python String Format in Print function enhances the readability and maintainability of the code\n",
        "\n",
        "> **2: Naming Conventions -**\n",
        "- **Global or Local Variables -** Should be in lower case and Use an underscore to join words.\n",
        "- **Constants in Python -** Should be only in upper case and Use an underscore to join words.\n",
        "- **Function Names -** Should be in lower case and Use an underscore to join words.\n",
        "- **Module Names -** Should be in lower case and Use an underscore to join words.\n",
        "- **Package Names -** Should be in lower case and Use an underscore to join words.\n",
        "- **Class Names -** Should follow CapWords convention.\n",
        "- **Merhod Names -** Should be in lower case and Use an underscore to join words.\n",
        "- **Merhod Arguments -**\n",
        "  - Every instance method should have ‘self’ as its first argument.\n",
        "  - Class methods should have their first argument named ‘cls’.\n",
        "\n",
        "> **3: Descriptive Variable Name -**\n",
        "- Avoid names that are too general or wordy. Maintain a good balance between the two.\n",
        "- **Bad:** user_list, dict_to_store_defns_of_a_word, swapNums, moveInts.\n",
        "- **Good:** user_info, word_definitions, swap_numbers, move_integers.\n",
        "- Avoid naming things like “X”, “Y” or “Z”.\n",
        "- Capitalize all letters of an abbreviation when using camelcase.\n",
        "- Avoid names starting with digits. Combination of lowercase letters (a to z) or uppercase letters (A to Z) or digits (0 to 9) or an underscore (_) can be used.\n",
        "\n",
        "> **4: Hard Coding Variables -** Hardcoding values to variables within your code can create maintenance and scalability challenging.\n",
        "\n",
        "> **5: Embracing Modularization -** Writing monolithic scripts without breaking code into reusable functions or classes can make code difficult to test, debug, and maintain.\n",
        "\n",
        "> **6: Proper Function Usage -** Python Functions are block of code that is run only when called. Guidelines for Python functions\n",
        "- 1: Proper Comments for the function\n",
        "- 2: Use of Global Variable should be avoided\n",
        "- 3: Use of function type annotation, by Default is any\n",
        "\n",
        "> **7: Handling Exceptions -** Ignoring exceptions or using bare except: clauses can hide bugs and lead to unexpected failures. Be specific about the exceptions you catch and handle, improving debugging and error resolution.\n",
        "\n",
        "\n"
      ],
      "metadata": {
        "id": "LVWnczLomObz"
      }
    },
    {
      "cell_type": "markdown",
      "source": [
        "# SELF PRACTICE PROGRAMS"
      ],
      "metadata": {
        "id": "vZ3bZMtfDXZO"
      }
    },
    {
      "cell_type": "markdown",
      "source": [
        "## PROG 1: Hello User Name Practice\n",
        "\n",
        "Write a program to take a user name as input and prints out Hello User Name. For e.g. Hello Narayan\n",
        "\n",
        "> **Input =>** Narayan\n",
        "\n",
        "> **Output =>** `Hello Narayan`\n",
        "\n",
        "> **Hint =>**\n",
        "1. Use of Python Built-In `input()` function\n",
        "2. Use of Python Built-In `print()` function\n",
        "2. Use of Python Formatted String Literal (f-String)\n",
        "\n",
        "\n"
      ],
      "metadata": {
        "id": "NMa3bY7KDeJO"
      }
    },
    {
      "cell_type": "code",
      "source": [
        "\n",
        "  name = str(input(\"Enter your Name \"))\n",
        "  print(f\"Hello {name}\")\n"
      ],
      "metadata": {
        "id": "4XL2nlcjy-hk",
        "colab": {
          "base_uri": "https://localhost:8080/"
        },
        "outputId": "eea99b79-d605-4c0d-9f0b-a8498e8a0d5f"
      },
      "execution_count": null,
      "outputs": [
        {
          "output_type": "stream",
          "name": "stdout",
          "text": [
            "Enter your Name Nikita\n",
            "Hello Nikita\n"
          ]
        }
      ]
    }
  ]
}