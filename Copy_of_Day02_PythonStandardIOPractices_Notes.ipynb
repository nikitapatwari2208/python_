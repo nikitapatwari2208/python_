{
  "nbformat": 4,
  "nbformat_minor": 0,
  "metadata": {
    "colab": {
      "provenance": [],
      "toc_visible": true
    },
    "kernelspec": {
      "name": "python3",
      "display_name": "Python 3"
    },
    "language_info": {
      "name": "python"
    }
  },
  "cells": [
    {
      "cell_type": "markdown",
      "source": [
        "# Day 02 Python Standard IO Assisted Practices\n",
        "\n",
        "IO Stream stands for Input and Output Stream. Here we will primarily focus on Standard Input (stdin) and Standard output (stdout) Stream"
      ],
      "metadata": {
        "id": "KJz66VizndaY"
      }
    },
    {
      "cell_type": "markdown",
      "source": [
        "## PROG 1: OOPS Banner\n",
        "\n",
        "Write a Program to output OOPS as a Banner using 9 characters and 9 Rows of space and astrix\n",
        "\n",
        "> **Input =>** NONE\n",
        "\n",
        "> **Output =>**\n",
        "\n",
        "```\n",
        "   ***         ***      ******         *****\n",
        " **   **     **   **    **    **     **      \n",
        "**     **   **     **   **     **   **       \n",
        "**     **   **     **   **    **     **      \n",
        "**     **   **     **   ******         ***   \n",
        "**     **   **     **   **                **\n",
        "**     **   **     **   **                 **\n",
        " **   **     **   **    **                **\n",
        "   ***         ***      **           *****   \n",
        "```\n",
        "> **Hint =>**\n",
        "1. Use print function with 9 Characters of Space `' '` or `'*'` for each letter i.e. O, O, P, S\n",
        "2. Use 9 Print Statements\n"
      ],
      "metadata": {
        "id": "uYzVsJfk2-rW"
      }
    },
    {
      "cell_type": "markdown",
      "source": [
        "**CODIN CONCEPT**\n",
        "\n",
        " > **1: Standard Output (stdout) -** stdout is stand for Standard Output. It is represented by the stdout stream, which is frequently attached to the console or terminal or screen to display user information from the program.\n",
        "\n",
        "> **2: Python Built-In Function print() -** The `print()` function in Python is a built-in function designed to output text enclosed in quotes to the standard output.\n",
        "\n",
        " > **3: OOPS -**\n",
        "“OOPS” stands for “Object-Oriented Programming System” or “Object-Oriented Programming Structure.”\n",
        "- It is a programming paradigm based on the concept of “objects,” which can contain\n",
        "  - data in the form of **variables** and\n",
        "  - code to manipulate that data in the form of **methods**.\n",
        "- The main aim of object-oriented programming is to implement real-world entities. Entities are nouns having attributes and actions that can be performed to those entities\n",
        "- **E.g. Billing System -** Billing a user for Items purchased with name, number of units, unit price and total price"
      ],
      "metadata": {
        "id": "9Y1ok7vpcCbz"
      }
    },
    {
      "cell_type": "code",
      "source": [
        "# PROG 1: OOPS Banner\n",
        "\n",
        "# Write The Code Here\n",
        "print('   ***   ',' ','   ***   ',' ','******   ',' ','    *****')\n",
        "print(' **   ** ',' ',' **   ** ',' ','**    ** ',' ',' **      ')\n",
        "print('**     **',' ','**     **',' ','**     **',' ','**       ')\n",
        "print('**     **',' ','**     **',' ','**    ** ',' ',' **      ')\n",
        "print('**     **',' ','**     **',' ','******   ',' ','   ***   ')\n",
        "print('**     **',' ','**     **',' ','**       ',' ','      ** ')\n",
        "print('**     **',' ','**     **',' ','**       ',' ','       **')\n",
        "print(' **   ** ',' ',' **   ** ',' ','**       ',' ','      ** ')\n",
        "print('   ***   ',' ','   ***   ',' ','**       ',' ',' *****   ')"
      ],
      "metadata": {
        "colab": {
          "base_uri": "https://localhost:8080/"
        },
        "id": "NFHR0RI75bGv",
        "outputId": "78abb654-ef54-4673-cc9f-1441117c327f"
      },
      "execution_count": null,
      "outputs": [
        {
          "output_type": "stream",
          "name": "stdout",
          "text": [
            "   ***         ***      ******          *****\n",
            " **   **     **   **    **    **     **      \n",
            "**     **   **     **   **     **   **       \n",
            "**     **   **     **   **    **     **      \n",
            "**     **   **     **   ******         ***   \n",
            "**     **   **     **   **                ** \n",
            "**     **   **     **   **                 **\n",
            " **   **     **   **    **                ** \n",
            "   ***         ***      **           *****   \n"
          ]
        }
      ]
    },
    {
      "cell_type": "markdown",
      "source": [
        "## PROG 2: Places to visit\n",
        "\n",
        "Write a program is take user name and the 3 places to visit in the year from the user and display as the following\n",
        "\n",
        "> **Purpose -** The purpose of this program is the use of seperator and end parameters of `print()` function\n",
        "\n",
        "> **Input =>** Narayan, Mumbai, Pune, Chennai, 2024\n",
        "\n",
        "> **Output =>** `Hello Narayan and places to visit Mumbai, Pune, Chennai in the Year 2024`\n",
        "\n",
        "> **Hint =>**\n",
        "1. Use of `print(value, ..., sep=',', end=' ')` function with `sep=','` and `end = ' '`\n",
        "2. Use of Python Formatted String Literal (f-String)\n"
      ],
      "metadata": {
        "id": "o8Yz4qKHpPpE"
      }
    },
    {
      "cell_type": "markdown",
      "source": [
        "**CODIN CONCEPTS**\n",
        "\n",
        "> **1: Standard Input (stdin) -** Standard input is a commonly used term in programming, denoting the default input device that a program utilizes to retrieve data. Typically, this is the keyboard, but it can also be a file or another input device.\n",
        "\n",
        "> **2: Python Built-In input() Function -** The `input()` function is a Python built-in function designed to receive user input from the standard input. When the user types and presses the return key, the input provided by the user is captured.\n",
        "\n",
        "> **3: Formatted string literal, or f-string -**\n",
        "- An **f-string** looks very much like a typical Python string except that it’s prepended by the character `f''` or `F''`\n",
        "- The magic of f-strings is that you can embed Python expressions directly inside them by using curly braces `{}`.\n",
        "- The expression is evaluated and converted to string representation, and the result is interpolated into the original string in that location\n",
        "\n",
        "> **4: Outcome of executing `help(print)` -** Help if a Python Built-In function to essentially get more helpful information of python built-in function. The execution of `help(print)` results in\n",
        "`print(value, ..., sep=' ', end='\\n', file=sys.stdout, flush=False)`  \n",
        "- Can Print Multiple Values to a stream or by default Standard Output the terminal or screen\n",
        "- sep: The seperator by default an empty text `' '`\n",
        "- end: End by default with a new line indicated by `'\\n'`\n",
        "\n",
        "> **5: help(input) -** Uses `raw_input(prompt='')` method of google.colab._kernel.Kernel instance over-riding python library input implementation which Forward raw_input prompt to frontends and in turn takes the user input from the frontend to the program\n",
        "\n"
      ],
      "metadata": {
        "id": "hBeBNbnTcJXV"
      }
    },
    {
      "cell_type": "code",
      "execution_count": null,
      "metadata": {
        "id": "RdPO2kGSgsvi",
        "colab": {
          "base_uri": "https://localhost:8080/"
        },
        "outputId": "0bedc875-c818-47c2-9585-2f0d566e360a"
      },
      "outputs": [
        {
          "output_type": "stream",
          "name": "stdout",
          "text": [
            "Help on built-in function print in module builtins:\n",
            "\n",
            "print(...)\n",
            "    print(value, ..., sep=' ', end='\\n', file=sys.stdout, flush=False)\n",
            "    \n",
            "    Prints the values to a stream, or to sys.stdout by default.\n",
            "    Optional keyword arguments:\n",
            "    file:  a file-like object (stream); defaults to the current sys.stdout.\n",
            "    sep:   string inserted between values, default a space.\n",
            "    end:   string appended after the last value, default a newline.\n",
            "    flush: whether to forcibly flush the stream.\n",
            "\n",
            "Help on method raw_input in module ipykernel.kernelbase:\n",
            "\n",
            "raw_input(prompt='') method of google.colab._kernel.Kernel instance\n",
            "    Forward raw_input to frontends\n",
            "    \n",
            "    Raises\n",
            "    ------\n",
            "    StdinNotImplementedError if active frontend doesn't support stdin.\n",
            "\n",
            "Enter the user name Nikita\n",
            "Enter the first place you would like to visit: Bangalore\n",
            "Enter the second place you would like to visit: Hyderabad\n",
            "Enter the third place you would like to visit: Goa\n",
            "Enter the year to visit: 2024\n",
            "\n",
            "Hello Nikita and places to visit are Bangalore,Hyderabad,Goa in the year 2024\n"
          ]
        }
      ],
      "source": [
        "# PROG 2: Places to visit\n",
        "\n",
        "# Write The Code Here\n",
        "help(print)\n",
        "\n",
        "help(input)\n",
        "\n",
        "user_name = input(\"Enter the user name \")\n",
        "first_place = input(\"Enter the first place you would like to visit: \")\n",
        "second_place = input(\"Enter the second place you would like to visit: \")\n",
        "third_place = input(\"Enter the third place you would like to visit: \")\n",
        "year = input(\"Enter the year to visit: \")\n",
        "\n",
        "print(f\"\\nHello {user_name} and places to visit are {first_place}\",second_place,third_place,sep=',',end=\" \")\n",
        "print(f\"in the year {year}\")"
      ]
    },
    {
      "cell_type": "markdown",
      "source": [
        "## PROG 3: Compute Circumference and Area of Circle\n",
        "\n",
        "Write a Program to Compute Circumference and Area of a Circle in cm and cm<sup>2</sup> by taking the radius (r) of a circle in inch as a input\n",
        "\n",
        "> **Input =>** Radius of the Circle in Inch. For e.g. 5\n",
        "\n",
        "> **Output =>** Circumference of the Circle is 31.42 cm and Area of the Cricle is 78.57 sqcm\n",
        "\n",
        "> **Hint =>**\n",
        "- 1: Convert Inch to CM using 1 inch = 2.54 centimeters\n",
        "- 2: Perimeter of a circle is 2πr and Area of Circle is πr<sup>2</sup>\n",
        "- 3: Use Constant PI as in `PI = 22/7`\n",
        "- 4: Use `**` Operator to compute radius<sup>2</sup> as in `area = PI * (radius ** 2)`\n",
        "- 5: Note: `(radius ** 2)` is enclosed in bracket indicating that radius<sup>2</sup> need to be computed first and then multiplied with PI. This is part of **Operator Precedence**\n",
        "\n"
      ],
      "metadata": {
        "id": "DeqMs0mXMYhu"
      }
    },
    {
      "cell_type": "markdown",
      "source": [
        "**CODING CONCEPT**\n",
        "\n",
        "> **1: Python Data Types -** Data types define the kind of data that can be stored in memory for a variable. In Python Data Types are implicitly assigned. For Python all built-in data types belongs to Python class. They can be categorized as either\n",
        "- **Primitive Data Types -** int, float, str, bool\n",
        "- **Derived Data Types -** list, dict, set, tuple\n",
        "\n",
        "- **2: Python Explicit Type Conversion -** Type conversion is converting from one data type to another. Explicit type conversion is achieved through Python's built-in functions such as `int()`, `float()`, and `str()`.\n",
        "\n",
        "> **3: Python Constant -** Constants are types of variables whose values cannot be altered or changed after initialization. These values are universally proven to be true and they cannot be changed over time. e.g. `PI = 22/7`\n",
        "- Naming Convention to define Constant is all caps\n",
        "- Python constants are declared and initialized in the beginning of the program as global or preferably in different modules/files.\n",
        "\n",
        "> **4: Python Multiplication and Power Operator -**  Multipication Operator `*` and Power operator `**` are part of **Python Arithmetic Operators** and are used to perform operations on variables or values\n",
        "\n",
        "> **5: Python Operator Precedence -** In Python, the order of operations follows the same principles as PEMDAS.\n",
        "- PEMDAS is an acronym that stands for “Parentheses, Exponents, Multiplication and Division, and Addition and Subtraction”\n",
        "- That is, expressions inside parentheses are evaluated first, followed by exponents, then multiplication and division (from left to right), and finally addition and subtraction (from left to right).\n",
        "\n",
        "> **6: Python Format Specifier for floating-point number -** For formatting float variables as string with Format Specifier expression like `{number:.2f}`. Here\n",
        "- Here `:` separates the number from format specifier `.2f`.\n",
        "- `.2` specifies the number of digits to be displayed after the decimal point\n",
        "- `f` indicates that the value should be formatted as a floating-point number\n"
      ],
      "metadata": {
        "id": "JIcxkSwwRnfY"
      }
    },
    {
      "cell_type": "markdown",
      "source": [
        "### PROG 3.1: Compute Circumference and Area of Circle"
      ],
      "metadata": {
        "id": "7izEHqQJe7FG"
      }
    },
    {
      "cell_type": "code",
      "source": [
        "# PROG 3.1: Compute Circumference and Area of Circle\n",
        "\n",
        "# Write The Code Here\n",
        "PI = 22/7\n",
        "\n",
        "radius_inch = float(input(\"Enter the radius of the circle in inches: \"))\n",
        "\n",
        "radius_cm = radius_inch * 2.54\n",
        "\n",
        "circumference_cm = 2 * PI * radius_cm\n",
        "area_square_cm = PI * (radius_cm ** 2)\n",
        "\n",
        "print(f\"\\nCircumference of the circle is {circumference_cm} cm and \", f\"Area of the Circle is {area_square_cm} sqcm\", sep= '\\n')"
      ],
      "metadata": {
        "colab": {
          "base_uri": "https://localhost:8080/"
        },
        "id": "YGTZCQWsJsTL",
        "outputId": "c3e60f62-476c-4080-9a13-652c145989a3"
      },
      "execution_count": null,
      "outputs": [
        {
          "output_type": "stream",
          "name": "stdout",
          "text": [
            "Enter the radius of the circle in inches: 5\n",
            "\n",
            "Circumference of the circle is 79.82857142857142 cm and \n",
            "Area of the Circle is 506.91142857142853 sqcm\n"
          ]
        }
      ]
    },
    {
      "cell_type": "markdown",
      "source": [
        "### PROG 3.2: Compute with Python Format Specifier"
      ],
      "metadata": {
        "id": "Zza4zLCnfBqE"
      }
    },
    {
      "cell_type": "code",
      "source": [
        "# PROG 3.2: Compute Circumference and Area of Circle with\n",
        "# Python Format Specifier for floating-point number\n",
        "\n",
        "# Write The Code Here\n",
        "PI = 22/7\n",
        "\n",
        "radius_inch = float(input(\"Enter the radius of the circle in inches: \"))\n",
        "\n",
        "radius_cm = radius_inch * 2.54\n",
        "\n",
        "circumference_cm = 2 * PI * radius_cm\n",
        "area_square_cm = PI * (radius_cm ** 2)\n",
        "\n",
        "print(f\"\\nCircumference of the circle is {circumference_cm:.2f} cm and \", f\"Area of the Circle is {area_square_cm:.2f} sqcm\")\n"
      ],
      "metadata": {
        "colab": {
          "base_uri": "https://localhost:8080/"
        },
        "id": "RSgsX74ofCZK",
        "outputId": "c591bd70-edce-4340-f123-6f91c55713f1"
      },
      "execution_count": null,
      "outputs": [
        {
          "output_type": "stream",
          "name": "stdout",
          "text": [
            "Enter the radius of the circle in inches: 5\n",
            "\n",
            "Circumference of the circle is 79.83 cm and  Area of the Circle is 506.91 sqcm\n"
          ]
        }
      ]
    },
    {
      "cell_type": "markdown",
      "source": [
        "## PROG 4: Find Generation\n",
        "\n",
        "Write a Program to take birth year as input and find the generation the user belongs.\n",
        "\n",
        "> **Input =>** Enter Birth Year for e.g. 1970\n",
        "\n",
        "> **Output =>**\n",
        "```\n",
        "Birth Year is 1970\n",
        "Is Baby Boomer: False\n",
        "Is Gen X: True\n",
        "Is Millennial: False\n",
        "Is Gen Z: False\n",
        "Is Gen Alpha: False\n",
        "\n",
        "> **Hint =>**\n",
        "- 1: Python Shorthand If Else\n",
        "- 2: The Generation is based on the year as shown below  \n",
        "Baby Boomers: Born 1946-1964.\n",
        "<br>Generation X: Born 1965-1980.\n",
        "<br>Millennials: Born 1981-1996.\n",
        "<br>Generation Z: Born 1997-2012.\n",
        "<br>Generation Alpha: Born 2013-2025.\n"
      ],
      "metadata": {
        "id": "d-yCyCoOlCAr"
      }
    },
    {
      "cell_type": "markdown",
      "source": [
        "**CODING CONCEPT**\n",
        "\n",
        "> **1: Python Operator -** Operators are special symbols that perform operations on variables and values. They are\n",
        "1. Arithmetic Operators like Add is `+`, Subtract is `-`, Multiply is `*`, Power is `**`...\n",
        "2. Assignment Operator `=` used in assigning value to a variable\n",
        "3. Comparison Operator to compare 2 values like `==`, `!=`, `>=` ...\n",
        "4. Logical Operator used in expression `and`, `or`, and `not`\n",
        "5. Bitwise operators for bit operations `&`, `|`,...\n",
        "6. Special Operators for memory comparison like `is` & `is not`\n",
        "\n",
        "> **2: Conditional Operation -** The conditional operation simply allows testing a condition in a single line replacing the multiline if-else making the code compact. It predominantly uses Comparison Operator and Logical Operators\n",
        "\n",
        "> **3: Python Shorthand If Else -** If you have only one condition to execute, one for if, and one for else, you can put it all on the same line using Python Shorthand as in `gender == 'male' and 'his' or 'her'`\n",
        "- **Comparison Operator -** Please note the use of Comparison Operator `==` to check the gender is 'male'\n",
        "\n",
        "\n"
      ],
      "metadata": {
        "id": "e32LZItIm06y"
      }
    },
    {
      "cell_type": "code",
      "source": [
        "# PROG 4: Find Generation\n",
        "\n",
        "# Write The Code Here\n",
        "\n",
        "birth_year = int(input(\"Enter birth year: \"))\n",
        "\n",
        "print(f\"\\nBirth year is {birth_year}\",\n",
        "      f\"Is Baby Boomer: {birth_year >= 1946 and birth_year <= 1964}\",\n",
        "      f\"Is GenX: {birth_year >= 1965 and birth_year <= 1980}\",\n",
        "      f\"Is Millennial: {birth_year >= 1981 and birth_year <= 1996}\",\n",
        "      f\"Is GenZ: {birth_year >= 1997 and birth_year <= 2012}\",\n",
        "      f\"Is Gen Alpha: {birth_year >= 2013 and birth_year <= 2025}\", sep = '\\n')"
      ],
      "metadata": {
        "colab": {
          "base_uri": "https://localhost:8080/"
        },
        "id": "3shXpgC6osTk",
        "outputId": "03d499ec-14b7-40e5-c54f-25edec81d1cc"
      },
      "execution_count": null,
      "outputs": [
        {
          "output_type": "stream",
          "name": "stdout",
          "text": [
            "Enter birth year: 1964\n",
            "\n",
            "Birth year is 1964\n",
            "Is Baby Boomer: True\n",
            "Is GenX: False\n",
            "Is Millennial: False\n",
            "Is GenZ: False\n",
            "Is Gen Alpha: False\n"
          ]
        }
      ]
    },
    {
      "cell_type": "markdown",
      "source": [
        "## PROG 5: Time Conversion\n",
        "\n",
        "Take input of time duration for an activity in seconds. Convert the same seconds in hours , minutes and seconds. Print in HH:MM:SS format.\n",
        "\n",
        "> **Input =>** Enter Number of Seconds for e.g. 3800\n",
        "\n",
        "> **Output =>** `Time duration of 3800 seconds in HH:MM:SS format is 01:03:20`\n",
        "\n",
        "> **Hint =>**\n",
        "1. Use 1 hour = 3600 seconds\n",
        "2. Use Floor Division Operator `//` and Modulo `%`\n",
        "3. In the code `hour = 3800 // 3600` results in 1 hour\n",
        "4. In the code `minutes = (3800 % 3600) // 60` results on 3 minutes\n",
        "5. In the code `seconds = 3800 % 60` results in 20 seconds\n",
        "6. Print the Result HH:MM:SS format. For this we use  Python String Format Specifier for Integers `:02d` to put leading zeors if it is a single digit number. For e.g. 1 is represented as 01"
      ],
      "metadata": {
        "id": "BzxKFC4ZJ07s"
      }
    },
    {
      "cell_type": "markdown",
      "source": [
        "**CODIN CONCEPTS**\n",
        "\n",
        "> **1: Floor Division Operator `//` -** Floor Division Operation is a division operation that rounds the result down to the nearest whole number or integer, which is less than or equal to the normal division result as in the line of code. Essentially the Quotient. `10 // 3 == 3`\n",
        "\n",
        "> **2: Python Modulo Operation -** Python modulo operation is used to get the remainder of a division as in the line of code `5 % 2 == 1`\n",
        "\n",
        "> **3: Python Operator Precedence -** In the code `minutes = (seconds % 3600) // 60` operator principles PEMDAS is used to compute one in paranthesis with modulo post that the reminder is computed with floor devision.\n",
        "\n",
        "\n",
        "> **4: Python String Format Specifier for Integers -** This uses the format code `d` for Integer as we seen before the format code `f` for Floating point numbers. For formatting integer variables as string with Format Specifier expression like `{number:02d}`. Here\n",
        "- `:` separates the number from format specifier `02d`.\n",
        "- `02` specifies to put leading zeros for 2 digit number if the number is a single digit number\n",
        "- `d` indicates that the value should be formatted as a integer\n"
      ],
      "metadata": {
        "id": "0QTict4JNETv"
      }
    },
    {
      "cell_type": "code",
      "source": [
        "# PROG 5: Time Conversion\n",
        "\n",
        "# Write The Code Here\n",
        "\n",
        "total_seconds = int(input(\"Enter the time Duration in seconds: \"))\n",
        "\n",
        "hours = total_seconds // 3600\n",
        "minutes = (total_seconds % 3600) // 60\n",
        "seconds = total_seconds % 60\n",
        "\n",
        "print(f\"\\nTime duration of {total_seconds} in HH:MM:SS is\", f\"{hours:02d}:{minutes:02d}:{seconds:02d}\")"
      ],
      "metadata": {
        "colab": {
          "base_uri": "https://localhost:8080/"
        },
        "id": "-qniwDS6KQ5c",
        "outputId": "97ca01ed-e507-4b43-9ef1-3d15f9295d57"
      },
      "execution_count": null,
      "outputs": [
        {
          "output_type": "stream",
          "name": "stdout",
          "text": [
            "Enter the time Duration in seconds: 3800\n",
            "\n",
            "Time duration of 3800 in HH:MM:SS is 01:03:20\n"
          ]
        }
      ]
    },
    {
      "cell_type": "markdown",
      "source": [
        "## PROG 6: Bill Generation App\n",
        "\n",
        "A wholesale fruit seller wants to compute the total amount of money he would like to bill a customer. He sells Apples and Oranges. Since Apples are imported they attract a higher GST of 12% compared to Oranges which are procurred locally hence have a GST of 5%.\n",
        "\n",
        "For bill generation, the seller needs to capture the buyer name, price at which the seller is selling the apple and oranges for the quantity purchased by the buyer.\n",
        "\n",
        "> **Input and Output =>** Refer the sample below\n",
        "\n",
        "```\n",
        "Enter Buyer Name: Narayan\n",
        "Enter Apple price per kg: 200\n",
        "Enter Apple Quantity in kg: 10\n",
        "Enter Orange price per kg: 150\n",
        "Enter Orange Quantity in kg: 10\n",
        "\n",
        "Buyer Name: Narayan\n",
        "--------------------------------------------------------------------------------\n",
        "| Item Code  | Price/Unit |  # unit  |   Price    |    GST     | Total w/ GST |\n",
        "--------------------------------------------------------------------------------\n",
        "|   Apple    |   Rs 200   |   10.0   | Rs 2000.0  |  Rs 240.0  |  Rs 2240.0   |\n",
        "|   Orange   |   Rs 150   |   10.0   | Rs 1500.0  |  Rs 75.0   |  Rs 1575.0   |\n",
        "--------------------------------------------------------------------------------\n",
        "Total                                                              ₹ 3815.00\n",
        "Total Round                                                        ₹ 3815.00\n",
        "--------------------------------------------------------------------------------\n",
        "```\n",
        "\n",
        "\n"
      ],
      "metadata": {
        "id": "aqvcr8jicsWJ"
      }
    },
    {
      "cell_type": "code",
      "source": [],
      "metadata": {
        "id": "yaDLlAV9XLEH"
      },
      "execution_count": null,
      "outputs": []
    },
    {
      "cell_type": "markdown",
      "source": [
        "**CODIN CONCEPT**\n",
        "\n",
        "> **1: String Formatting Expression -** We use the followimg String formatting expressions in the below program\n",
        "1. `{'Item Code':^10}` is a string formatting expression used to center-align the text \"Item Code\" within a field width of 10 characters. Here's what each part of the expression means:\n",
        "  - `{'Item Code'}`: This part defines the text that will be formatted. In this case, it's the label `\"Item Code\"`.\n",
        "  - `^`: This is the alignment specifier. It tells Python to center-align the text within the specified field width.\n",
        "  - `10`: This is the field width. It specifies the total number of characters the formatted string should occupy. In this case, it's 10 characters.\n",
        "  - So, `{'Item Code':^10}` ensures that the text \"Item Code\" is centered within a field width of 10 characters. If the text itself is less than 10 characters, it will be surrounded by spaces to fill up the remaining space and achieve center alignment.\n",
        "2. `{'-' * 74}` is used to repeat the character `'-'` 74 times. This is because of the multiplier operator `*`\n",
        "3. `{' ' * 54}` is used to repeat space character `' '` 54 times due to operator `*`\n",
        "\n",
        "> **2: Unicode Symbol -** Unicode is a universal character encoding standard. `'\\u20B9'` represents the Unicode code point for the Indian Rupee symbol (₹)\n",
        "- So, when you see \\u20B9 in a Python string literal, it means that the Indian Rupee symbol will be displayed at that point when the string is printed.\n",
        "\n",
        "> **3: Python round() -** Python round() function rounds a number to the nearest integer. The round() is also used to round a number to the given number of decimal places.\n",
        "- `round(10.7)`: rounds the float 10.7 to nearest integer, 11.\n",
        "- `round(2.665, 2)`: rounds the float 2.665 to 2 decimal places, 2.67\n",
        "\n",
        "> **4: Type Casting -** Type Casting is the method to convert the Python variable datatype into a certain data type in order to perform the required operation by users. There can be two types of Type Casting in Python:\n",
        "- **Python Implicit Type Conversion** - In implicit type conversion, Python automatically generates the data type for the variable. In the example  `total_sum = 10` the data type of total_sum can be found using `type(total_sum)` and it will `int` class\n",
        "- **Python Explicit Type Conversion** - Explicit type conversion is achieved through Python's built-in functions such as `int()`, `float()`, and `str()`.\n",
        "\n",
        "\n",
        "\n",
        "\n",
        "\n"
      ],
      "metadata": {
        "id": "CdF_cl2ZpDlk"
      }
    },
    {
      "cell_type": "code",
      "source": [
        "## Prog 6: Bill Generation App\n",
        "\n",
        "# Write The Code Here\n",
        "\n",
        "APPLE_GST = 0.12\n",
        "ORANGE_GST = 0.05\n",
        "\n",
        "buyer_name = input(\"Enter Buyer Name: \")\n",
        "apple_price_kg = int(input(\"Enter Apple price per kg :\"))\n",
        "apple_quantity_kg = float(input(\"Enter Apple quantity in kg: \"))\n",
        "orange_price_kg = int(input(\"Enter Orange price per kg :\"))\n",
        "orange_quantity_kg = float(input(\"Enter Orange quantity in kg: \"))\n",
        "\n",
        "total_price_apple = apple_price_kg * apple_quantity_kg\n",
        "total_price_orange = orange_price_kg * orange_quantity_kg\n",
        "\n",
        "total_gst_apple = total_price_apple * APPLE_GST\n",
        "total_gst_orange = total_price_orange * ORANGE_GST\n",
        "\n",
        "total_billing_apple = total_price_apple + total_gst_apple\n",
        "total_billing_orange = total_price_orange + total_gst_orange\n",
        "\n",
        "total_amount = total_billing_apple + total_billing_orange\n",
        "total_round_amount = round(total_amount)\n",
        "\n",
        "print(f\"\\nBuyer Name: {buyer_name}\")\n",
        "print(f\"{'-'  * 74}\")\n",
        "print(f\"| {'Item Code':^10} | {'Price/Unit':^10} | {'#unit':^5} | {'Price':^5} | {'GST':^10} | {'Total w/ GST':^10} |\")\n",
        "print(f\"{'-'  * 74}\")\n",
        "print(f\"| {'Apple':^10} | {'Rs'+str(apple_price_kg):^10} | {apple_quantity_kg:^5} | {'Rs'+ str(total_price_apple):^5} | {'Rs'+ str(total_gst_apple):^10} | {'Rs'+ str(total_billing_apple):^10} |\")\n",
        "print(f\"| {'Orange':^10} | {'Rs'+str(orange_price_kg):^10} | {orange_quantity_kg:^5} | {'Rs'+ str(total_price_orange):^5} | {'Rs'+ str(total_gst_orange):^10} | {'Rs'+ str(total_billing_orange):^10} |\")\n",
        "print(f\"{'-'  * 74}\")\n",
        "print(f\"Total {' '*54} \\u20B9 {total_amount:.2f}\")\n",
        "print(f\"Total Round {' '*48} \\u20B9 {total_round_amount:.2f}\")\n",
        "print(f\"{'-'  * 74}\")\n",
        "\n"
      ],
      "metadata": {
        "colab": {
          "base_uri": "https://localhost:8080/"
        },
        "id": "s0O6IDWTk9bu",
        "outputId": "feff5c8e-72a6-4bcd-ff07-4a66aaf85608"
      },
      "execution_count": null,
      "outputs": [
        {
          "output_type": "stream",
          "name": "stdout",
          "text": [
            "Enter Buyer Name: Nikita\n",
            "Enter Apple price per kg :200\n",
            "Enter Apple quantity in kg: 5\n",
            "Enter Orange price per kg :150\n",
            "Enter Orange quantity in kg: 2\n",
            "\n",
            "Buyer Name: Nikita\n",
            "--------------------------------------------------------------------------\n",
            "| Item Code  | Price/Unit | #unit | Price |    GST     | Total w/ GST |\n",
            "--------------------------------------------------------------------------\n",
            "|   Apple    |   Rs200    |  5.0  | Rs1000.0 |  Rs120.0   |  Rs1120.0  |\n",
            "|   Orange   |   Rs150    |  2.0  | Rs300.0 |   Rs15.0   |  Rs315.0   |\n",
            "--------------------------------------------------------------------------\n",
            "Total                                                        ₹ 1435.00\n",
            "Total Round                                                  ₹ 1435.00\n",
            "--------------------------------------------------------------------------\n"
          ]
        }
      ]
    },
    {
      "cell_type": "markdown",
      "source": [
        "## PROG 7: School Report App\n",
        "\n",
        "**School Result:** For a school - “New School Of Learning '', create a program where individual results of each student of the class XI are generated and also a summary of the class is created.  \n",
        "\n",
        "Get 3 student names\n",
        "For each student, get physics, chemistry and mathematics marks  out of 50.\n",
        "Publish the results on screen for all of the  students . Result should have School name, Student name and Class Name in the heading.\n",
        "\n",
        "Then in tabular manner print subject, marks obtained, % of marks\n",
        "Also total marks obtained and total percentage at the end of table.\n",
        "\n",
        "For school summary - generate class average of each subject and overall average\n",
        "\n",
        "> **Output =>**\n",
        "\n",
        "```\n",
        "Enter name of student 1: Narayan\n",
        "Enter Physics marks out of 50 for student 1: 35\n",
        "Enter Chemistry marks out of 50 for student 1: 45\n",
        "Enter Mathematics marks out of 50 for student 1: 30\n",
        "\n",
        "New School Of Learning - Class XI - Narayan\n",
        "------------------------------------------------------------------------\n",
        "|     Subject     |   Total Marks   | Marks Obtained  |   Percentage    |\n",
        "------------------------------------------------------------------------\n",
        "|     Physics     |       50        |       35        |      70.0       |\n",
        "|    Chemistry    |       50        |       45        |      90.0       |\n",
        "|   Mathematics   |       50        |       30        |      60.0       |\n",
        "------------------------------------------------------------------------\n",
        "|      Total      |       150       |       110       |      73.33      |\n",
        "------------------------------------------------------------------------\n",
        "\n",
        "\n",
        "Enter name of student 2: Karthik\n",
        "Enter Physics marks out of 50 for student 2: 40\n",
        "Enter Chemistry marks out of 50 for student 2: 40\n",
        "Enter Mathematics marks out of 50 for student 2: 45\n",
        "\n",
        "New School Of Learning - Class XI - Karthik\n",
        "------------------------------------------------------------------------\n",
        "|     Subject     |   Total Marks   | Marks Obtained  |   Percentage    |\n",
        "------------------------------------------------------------------------\n",
        "|     Physics     |       50        |       40        |      80.0       |\n",
        "|    Chemistry    |       50        |       40        |      80.0       |\n",
        "|   Mathematics   |       50        |       45        |      90.0       |\n",
        "------------------------------------------------------------------------\n",
        "|      Total      |       150       |       125       |      83.33      |\n",
        "------------------------------------------------------------------------\n",
        "\n",
        "\n",
        "Enter name of student 3: Vidya\n",
        "Enter Physics marks out of 50 for student 3: 40\n",
        "Enter Chemistry marks out of 50 for student 3: 45\n",
        "Enter Mathematics marks out of 50 for student 3: 40\n",
        "\n",
        "New School Of Learning - Class XI - Vidya\n",
        "------------------------------------------------------------------------\n",
        "|     Subject     |   Total Marks   | Marks Obtained  |   Percentage    |\n",
        "------------------------------------------------------------------------\n",
        "|     Physics     |       50        |       40        |      80.0       |\n",
        "|    Chemistry    |       50        |       45        |      90.0       |\n",
        "|   Mathematics   |       50        |       40        |      80.0       |\n",
        "------------------------------------------------------------------------\n",
        "|      Total      |       150       |       125       |      83.33      |\n",
        "------------------------------------------------------------------------\n",
        "\n",
        "\n",
        "\n",
        "Class Average And Percentage for Each Subject:\n",
        "Physics Average is 38.33 and Percentage is 76.67%\n",
        "Chemistry Average is 43.33 and Percentage is 86.67%\n",
        "Mathematics Average is 38.33 and Percentage is 76.67%\n",
        "Overall Percentage: 80.00%\n",
        "```\n"
      ],
      "metadata": {
        "id": "uwaIyVhGceLw"
      }
    },
    {
      "cell_type": "markdown",
      "source": [
        "**CODIN STEPS**\n",
        "\n",
        "> **Step 1: -** Specifying Constants for School, Class, subjects marks, total, and number of students\n",
        "\n",
        "> **Step 2: -** Get student name, physics, chemistry and maths marks for Student 1 and Calculate total marks for student 1\n",
        "\n",
        "> **Step 3: -** Calculating physics, chemistry and maths percentage for student 1\n",
        "\n",
        "> **Step 4: -** Print results for student 1\n",
        "\n",
        "> **TEST CASE 1: -**\n",
        "\n",
        "```\n",
        "Enter name of student 1: Narayan\n",
        "Enter Physics marks out of 50 for student 1: 35\n",
        "Enter Chemistry marks out of 50 for student 1: 45\n",
        "Enter Mathematics marks out of 50 for student 1: 30\n",
        "\n",
        "New School Of Learning - Class XI - Narayan\n",
        "------------------------------------------------------------------------\n",
        "|     Subject     |   Total Marks   | Marks Obtained  |   Percentage    |\n",
        "------------------------------------------------------------------------\n",
        "|     Physics     |       50        |       35        |      70.0       |\n",
        "|    Chemistry    |       50        |       45        |      90.0       |\n",
        "|   Mathematics   |       50        |       30        |      60.0       |\n",
        "------------------------------------------------------------------------\n",
        "|      Total      |       150       |       110       |      73.33      |\n",
        "------------------------------------------------------------------------\n",
        "\n",
        "```\n",
        "\n",
        "> **Step 5: -** Get student name, physics, chemistry and maths marks for Student 2 and Calculate total marks for student 2\n",
        "\n",
        "> **Step 6: -** Calculating physics, chemistry and maths percentage for student 2\n",
        "\n",
        "> **Step 7: -** Print results for student 2\n",
        "\n",
        "> **TEST CASE 2: -**\n",
        "\n",
        "```\n",
        "\n",
        "Enter name of student 2: Karthik\n",
        "Enter Physics marks out of 50 for student 2: 40\n",
        "Enter Chemistry marks out of 50 for student 2: 40\n",
        "Enter Mathematics marks out of 50 for student 2: 45\n",
        "\n",
        "New School Of Learning - Class XI - Karthik\n",
        "------------------------------------------------------------------------\n",
        "|     Subject     |   Total Marks   | Marks Obtained  |   Percentage    |\n",
        "------------------------------------------------------------------------\n",
        "|     Physics     |       50        |       40        |      80.0       |\n",
        "|    Chemistry    |       50        |       40        |      80.0       |\n",
        "|   Mathematics   |       50        |       45        |      90.0       |\n",
        "------------------------------------------------------------------------\n",
        "|      Total      |       150       |       125       |      83.33      |\n",
        "------------------------------------------------------------------------\n",
        "\n",
        "\n",
        "```\n",
        "\n",
        "> **Step 8: -** Get student name, physics, chemistry and maths marks for Student 3 and Calculate total marks for student 3\n",
        "\n",
        "> **Step 9: -** Calculating physics, chemistry and maths percentage for student 3\n",
        "\n",
        "> **Step 10: -** Print results for student 3\n",
        "\n",
        "> **TEST CASE 3: -**\n",
        "\n",
        "```\n",
        "\n",
        "Enter name of student 3: Vidya\n",
        "Enter Physics marks out of 50 for student 3: 40\n",
        "Enter Chemistry marks out of 50 for student 3: 45\n",
        "Enter Mathematics marks out of 50 for student 3: 40\n",
        "\n",
        "New School Of Learning - Class XI - Vidya\n",
        "------------------------------------------------------------------------\n",
        "|     Subject     |   Total Marks   | Marks Obtained  |   Percentage    |\n",
        "------------------------------------------------------------------------\n",
        "|     Physics     |       50        |       40        |      80.0       |\n",
        "|    Chemistry    |       50        |       45        |      90.0       |\n",
        "|   Mathematics   |       50        |       40        |      80.0       |\n",
        "------------------------------------------------------------------------\n",
        "|      Total      |       150       |       125       |      83.33      |\n",
        "------------------------------------------------------------------------\n",
        "\n",
        "```\n",
        "\n",
        "> **Step 11: -** Calculate total marks obtained by all students in each subject\n",
        "\n",
        "> **Step 12: -** Calculate class averages for each subject\n",
        "\n",
        "> **Step 13: -** Calculate the class average percentage for each subject\n",
        "\n",
        "> **Step 14: -** Calculate total marks obtained by all students\n",
        "\n",
        "> **Step 15: -** Calculate overall percentage\n",
        "\n",
        "> **Step 16: -** Print the class average percentage for each subject\n",
        "\n",
        "> **FINAL OUTPUT: -**\n",
        "\n",
        "```\n",
        "Class Average And Percentage for Each Subject:\n",
        "Physics Average is 38.33 and Percentage is 76.67%\n",
        "Chemistry Average is 43.33 and Percentage is 86.67%\n",
        "Mathematics Average is 38.33 and Percentage is 76.67%\n",
        "Overall Percentage: 80.00%\n",
        "\n",
        "```\n",
        "\n"
      ],
      "metadata": {
        "id": "8FW6NHs10fGa"
      }
    },
    {
      "cell_type": "markdown",
      "source": [
        "**CODIN CONCEPTS**\n",
        "\n",
        "> **1: Standard IO (stdio) -** stdio stands for Standard Input and Output.\n",
        "\n",
        "> **2: Formatted string literal, or f-string -**\n",
        "- An **f-string** looks very much like a typical Python string except that it’s prepended by the character `f''` or `F''`\n",
        "- The magic of f-strings is that you can embed Python expressions directly inside them by using curly braces `{}`.\n",
        "- The expression is evaluated and converted to string representation, and the result is interpolated into the original string in that location\n",
        "\n",
        "> **3: Python Data Types -** Data types define the kind of data that can be stored in memory for a variable. In Python Data Types are implicitly assigned. For Python all built-in data types belongs to Python class. They can be categorized as either\n",
        "- **Primitive Data Types -** int, float, str, bool\n",
        "- **Derived Data Types -** list, dict, set, tuple\n",
        "\n",
        "- **4: Python Explicit Type Conversion -** Type conversion is converting from one data type to another. Explicit type conversion is achieved through Python's built-in functions such as `int()`, `float()`, and `str()`.\n",
        "\n",
        "> **5: Python Constant -** Constants are types of variables whose values cannot be altered or changed after initialization. These values are universally proven to be true and they cannot be changed over time. e.g. `PI = 22/7`\n",
        "- Naming Convention to define Constant is all caps\n",
        "- Python constants are declared and initialized in the beginning of the program as global or preferably in different modules/files.\n",
        "\n",
        "> **6: Python Format Specifier -**\n",
        "- Formatting float variables as string with Format Specifier expression like `{number:.2f}`.\n",
        "- Formatting integer variables as string with Format Specifier expression like `{number:02d}`.\n",
        "\n",
        "> **7: Python Operator -** Operators are special symbols that perform operations on variables and values. They are\n",
        "1. Arithmetic Operators like Add is `+`, Subtract is `-`, Multiply is `*`, Power is `**`...\n",
        "2. Assignment Operator `=` used in assigning value to a variable\n",
        "3. Comparison Operator to compare 2 values like `==`, `!=`, `>=` ...\n",
        "4. Logical Operator used in expression `and`, `or`, and `not`\n",
        "5. Bitwise operators for bit operations `&`, `|`,...\n",
        "6. Special Operators for memory comparison like `is` & `is not`\n",
        "\n",
        "> **8: Python Operator Precedence -** In Python, the order of operations follows the same principles as PEMDAS.\n",
        "- PEMDAS is an acronym that stands for “Parentheses, Exponents, Multiplication and Division, and Addition and Subtraction”\n",
        "- That is, expressions inside parentheses are evaluated first, followed by exponents, then multiplication and division (from left to right), and finally addition and subtraction (from left to right).\n",
        "\n",
        "> **9: Conditional Operation -** The conditional operation simply allows testing a condition in a single line replacing the multiline if-else making the code compact. It predominantly uses Comparison Operator and Logical Operators\n",
        "\n",
        "> **10: Python Shorthand If Else -** If you have only one condition to execute, one for if, and one for else, you can put it all on the same line using Python Shorthand as in `gender == 'male' and 'his' or 'her'`\n",
        "- **Comparison Operator -** Please note the use of Comparison Operator `==` to check the gender is 'male'\n",
        "\n",
        "> **11: String Formatting Expression -** We use the followimg String formatting expressions\n",
        "1. `{'Item Code':^10}` is a string formatting expression used to center-align the text \"Item Code\" within a field width of 10 characters. Here's what each part of the expression means:\n",
        "2. `{'-' * 74}` is used to repeat the character `'-'` 74 times. This is because of the multiplier operator `*`\n",
        "3. `{' ' * 54}` is used to repeat space character `' '` 54 times due to operator `*`\n",
        "\n"
      ],
      "metadata": {
        "id": "8DU_pNA0JiVj"
      }
    },
    {
      "cell_type": "code",
      "source": [
        "# PROG 7: School Report App\n",
        "\n",
        "# Write The Code Here\n",
        "\n",
        "SCHOOL_NAME = \"New School Of Learning\"\n",
        "CLASS_NAME = \"Class XI\"\n",
        "TOTAL_SUBJECT_MARKS = 50\n",
        "TOTAL_MARKS = TOTAL_SUBJECT_MARKS*3\n",
        "NUMBER_STUDENTS = 3\n",
        "\n",
        "# Step 2: Defining Global Variables for subject-wise total marks along with\n",
        "# class average and percentage and initializing the same to 0\n",
        "total_phys_marks = total_chem_marks = total_math_marks = 0\n",
        "class_phys_avg = class_chem_avg = class_math_avg = 0.0\n",
        "class_phys_perc = class_chem_perc = class_math_perc = 0.0\n",
        "overall_total_student_marks = overall_perc = 0\n",
        "\n",
        "# Step 3: Loop through each student to get input and calculate total marks\n",
        "for i in range(NUMBER_STUDENTS):\n",
        "\n",
        "  # Step 4: Get student name, if Not valid then breaking the loop\n",
        "  student_name = input(f\"Enter name of student {i+1}: \")\n",
        "  if len(student_name) == 0 or student_name.isalpha() == False :\n",
        "    print(f\"Invalid Input: Student Name {student_name}\")\n",
        "    overall_total_student_marks = None\n",
        "    break;\n",
        "\n",
        "  # Step 5: Get student name , physics, chemistry and maths marks for Student.\n",
        "  # Validate the input and Calculate total marks for student\n",
        "  phys_marks_entered = input(f\"Enter Physics marks out of 50 for student {i+1}: \")\n",
        "  chem_marks_entered = input(f\"Enter Chemistry marks out of 50 for student {i+1}: \")\n",
        "  math_marks_entered = input(f\"Enter Mathematics marks out of 50 for student {i+1}: \")\n",
        "\n",
        "  student_phys_marks = (phys_marks_entered.isdigit() and\n",
        "                        int(phys_marks_entered) or None)\n",
        "  student_chem_marks = (chem_marks_entered.isdigit() and\n",
        "                        int(chem_marks_entered) or None)\n",
        "  student_math_marks = (math_marks_entered.isdigit() and\n",
        "                        int(math_marks_entered) or None)\n",
        "\n",
        "  if (student_phys_marks is None or 0 < student_phys_marks > 50 or\n",
        "      student_chem_marks is None or 0 < student_chem_marks > 50 or\n",
        "      student_math_marks is None or 0 < student_math_marks > 50) :\n",
        "      overall_total_student_marks = None\n",
        "      print(f\"Invalid Input: Physics Mark: {phys_marks_entered}, Chemistry\",\n",
        "            f\"Marks: {chem_marks_entered} or Maths Marks: {math_marks_entered}\")\n",
        "      break;\n",
        "\n",
        "  total_student_marks = student_phys_marks + student_chem_marks + student_math_marks\n",
        "\n",
        "  # Step 6: Calculating physics, chemistry and maths percentage for student\n",
        "  student_phys_perc = round((student_phys_marks / TOTAL_SUBJECT_MARKS) * 100, 2)\n",
        "  student_chem_perc = round((student_chem_marks / TOTAL_SUBJECT_MARKS) * 100, 2)\n",
        "  student_math_perc = round((student_math_marks / TOTAL_SUBJECT_MARKS) * 100, 2)\n",
        "\n",
        "  # Step 7: Calculate total marks and overall marks obtained by all\n",
        "  # students in each subject\n",
        "  total_phys_marks += student_phys_marks\n",
        "  total_chem_marks += student_chem_marks\n",
        "  total_math_marks += student_math_marks\n",
        "  overall_total_student_marks += total_student_marks\n",
        "\n",
        "  # Step 8: Print results for student\n",
        "  print(f\"\\n{SCHOOL_NAME} - {CLASS_NAME} - {student_name}\")\n",
        "  print(f\"{'-' * 72}\")\n",
        "  print(f\"| {'Subject':^15} | {'Total Marks':^15} | {'Marks Obtained':^15} | {'Percentage':^15} |\")\n",
        "  print(f\"{'-' * 72}\")\n",
        "  print(f\"| {'Physics':^15} | {TOTAL_SUBJECT_MARKS:^15} | {student_phys_marks:^15}\",\n",
        "        f\"| {student_phys_perc:^15} |\")\n",
        "  print(f\"| {'Chemistry':^15} | {TOTAL_SUBJECT_MARKS:^15} | {student_chem_marks:^15}\",\n",
        "        f\"| {student_chem_perc:^15} |\")\n",
        "  print(f\"| {'Mathematics':^15} | {TOTAL_SUBJECT_MARKS:^15} | {student_math_marks:^15}\",\n",
        "        f\"| {student_math_perc:^15} |\")\n",
        "  print(f\"{'-' * 72}\")\n",
        "  print(f\"| {'Total':^15} | {TOTAL_MARKS:^15} | {total_student_marks:^15}\",\n",
        "        f\"| {round((total_student_marks / TOTAL_MARKS) * 100, 2):^15} |\")\n",
        "  print(f\"{'-' * 72}\\n\")\n",
        "\n",
        "if overall_total_student_marks is not None :\n",
        "  # Step 9: Calculate class averages for each subject if overall student\n",
        "  # marks is not None\n",
        "  class_phys_avg = total_phys_marks / NUMBER_STUDENTS\n",
        "  class_chem_avg = total_chem_marks / NUMBER_STUDENTS\n",
        "  class_math_avg = total_math_marks / NUMBER_STUDENTS\n",
        "\n",
        "  # Step 10: Calculate the class average percentage for each subject\n",
        "  class_phys_perc = (class_phys_avg / TOTAL_SUBJECT_MARKS) * 100\n",
        "  class_chem_perc = (class_chem_avg / TOTAL_SUBJECT_MARKS) * 100\n",
        "  class_math_perc = (class_math_avg / TOTAL_SUBJECT_MARKS) * 100\n",
        "\n",
        "  # Step 11: Calculate overall percentage\n",
        "  overall_perc = (overall_total_student_marks / (NUMBER_STUDENTS * TOTAL_MARKS)) * 100\n",
        "\n",
        "  # Step 12: Print the class average percentage for each subject\n",
        "  print(\"Class Average And Percentage for Each Subject:\")\n",
        "  print(f\"Physics Average is {class_phys_avg:.2f} and Percentage is {class_phys_perc:.2f}%\")\n",
        "  print(f\"Chemistry Average is {class_chem_avg:.2f} and Percentage is {class_chem_perc:.2f}%\")\n",
        "  print(f\"Mathematics Average is {class_math_avg:.2f} and Percentage is {class_math_perc:.2f}%\")\n",
        "  print(f\"Overall Percentage: {overall_perc:.2f}%\")"
      ],
      "metadata": {
        "id": "OxdkzbpVciqx"
      },
      "execution_count": null,
      "outputs": []
    },
    {
      "cell_type": "markdown",
      "source": [
        "# Day 02 Python Standard IO Self Practices"
      ],
      "metadata": {
        "id": "3adP2VX6n8VE"
      }
    },
    {
      "cell_type": "markdown",
      "source": [
        "## PROG 1: Print 3 Names\n",
        "\n",
        "Write a program that takes three names as input and prints out Hi to friends with the names in the reverse of the order given. For example, it gives \"Hi Anthony, Akbar and Amar.\".\n",
        "\n",
        "> **Input =>** Amar, Akbar, Anthony\n",
        "\n",
        "> **Output =>** Hi Anthony, Akbar and Amar.\n",
        "\n",
        "\n"
      ],
      "metadata": {
        "id": "9Nv3003hzNfi"
      }
    },
    {
      "cell_type": "code",
      "source": [
        "friend_1 = input(\"Enter first friend name: \")\n",
        "friend_2 = input(\"Enter second friend name: \")\n",
        "friend_3 = input(\"Enter third friend name: \")\n",
        "\n",
        "print(f\"Hi {friend_3} , {friend_2} and {friend_1}\")"
      ],
      "metadata": {
        "colab": {
          "base_uri": "https://localhost:8080/"
        },
        "id": "6lTF1Cc6y9dh",
        "outputId": "54853f60-3916-451b-9243-a51341f200e4"
      },
      "execution_count": null,
      "outputs": [
        {
          "output_type": "stream",
          "name": "stdout",
          "text": [
            "Enter first friend name: Amar\n",
            "Enter second friend name: Akbar\n",
            "Enter third friend name: Antony\n",
            "Hi Antony , Akbar and Amar\n"
          ]
        }
      ]
    },
    {
      "cell_type": "markdown",
      "source": [
        "## PROG 2: Favorite Places\n",
        "\n",
        "Get the input of 5 places you would like to visit . Print these places with a comma and a space in between the places. Also print the Five Places with a Gap of 2 Lines\n",
        "\n",
        "> **Input =>** Srinagar, Jabalpur, Jaisalmer, Chidambaram, Shillong\n",
        "\n",
        "> **Output # 1 =>** My Favorite Places are Srinagar, Jabalpur, Jaisalmer, Chidambaram, Shillong\n",
        "\n",
        "> **Output # 2 =>**\n",
        "My Favorite Places are\n",
        "<br>Srinagar\n",
        "<br><br>Jabalpur\n",
        "<br><br>Jaisalmer\n",
        "<br><br>Chidambaram\n",
        "<br><br>Shillong\n",
        "\n",
        "> **Hint =>**\n",
        "1. For Output 1 and 2 try with using print function parameter `sep = ', '` and sep = `'\\n\\n'`\n",
        "2. For Output 2 try with using print function parameter `end = '\\n\\n'`\n",
        "3. The String '\\n' indicates New Line"
      ],
      "metadata": {
        "id": "xtCy7Tw90KhC"
      }
    },
    {
      "cell_type": "code",
      "source": [
        "\n",
        "first_place = input(\"Enter the first place you would like to visit: \")\n",
        "second_place = input(\"Enter the second place you would like to visit: \")\n",
        "third_place = input(\"Enter the third place you would like to visit: \")\n",
        "fourth_place = input(\"Enter the third place you would like to visit: \")\n",
        "fifth_place = input(\"Enter the third place you would like to visit: \")\n",
        "\n",
        "\n",
        "print(f\"\\nMy Favourite places are {first_place}\",second_place,third_place,fourth_place,fifth_place,sep=',')\n",
        "print(f\"\\nMy Favourite places are\", first_place,second_place,third_place,fourth_place,fifth_place,sep='\\n\\n', end='\\n\\n')"
      ],
      "metadata": {
        "colab": {
          "base_uri": "https://localhost:8080/"
        },
        "id": "ny9U0Zc-zs45",
        "outputId": "060038e8-e77e-449f-e951-dfa32f0f2c39"
      },
      "execution_count": null,
      "outputs": [
        {
          "output_type": "stream",
          "name": "stdout",
          "text": [
            "Enter the first place you would like to visit: a\n",
            "Enter the second place you would like to visit: b\n",
            "Enter the third place you would like to visit: c\n",
            "Enter the third place you would like to visit: d\n",
            "Enter the third place you would like to visit: e\n",
            "\n",
            "My Favourite places are a,b,c,d,e\n",
            "\n",
            "My Favourite places are\n",
            "\n",
            "a\n",
            "\n",
            "b\n",
            "\n",
            "c\n",
            "\n",
            "d\n",
            "\n",
            "e\n",
            "\n"
          ]
        }
      ]
    },
    {
      "cell_type": "markdown",
      "source": [
        "## PROG 3: Name Banner\n",
        "\n",
        "Write a Program to output your name as a Banner using 9 characters and 9 Rows of space and astrix. Similat to OOPS Banner program already solved in Assisted Practice For e.g. for OOPS\n",
        "\n",
        "> **Input =>** NONE\n",
        "\n",
        "> **Output =>**\n",
        "\n",
        "```\n",
        "   ***         ***      ******         *****\n",
        " **   **     **   **    **    **     **      \n",
        "**     **   **     **   **     **   **       \n",
        "**     **   **     **   **    **     **      \n",
        "**     **   **     **   ******         ***   \n",
        "**     **   **     **   **                **\n",
        "**     **   **     **   **                 **\n",
        " **   **     **   **    **                **\n",
        "   ***         ***      **           *****   \n",
        "```\n",
        "> **Hint =>**\n",
        "1. Use print function with 9 Characters of Space `' '` or `'*'` for each letter like the one demonstrated for OOPS i.e. O, O, P, S\n",
        "2. Use 9 Print Statements\n",
        "\n"
      ],
      "metadata": {
        "id": "_k2ft4XY9Wqt"
      }
    },
    {
      "cell_type": "code",
      "source": [
        "print('**      *',' ','   ***   ',' ','**    ** ',' ','   ***   ')\n",
        "print('**      *',' ','   ***   ',' ','**   **  ',' ','   ***   ')\n",
        "print('* *     *',' ','   ***   ',' ','**  **   ',' ','   ***   ')\n",
        "print('*  *    *',' ','   ***   ',' ','** **    ',' ','   ***   ')\n",
        "print('*   *   *',' ','   ***   ',' ','****     ',' ','   ***   ')\n",
        "print('*    *  *',' ','   ***   ',' ','** **    ',' ','   ***   ')\n",
        "print('*     * *',' ','   ***   ',' ','**  **   ',' ','   ***   ')\n",
        "print('*      **',' ','   ***   ',' ','**   **  ',' ','   ***   ')\n",
        "print('*      **',' ','   ***   ',' ','**    ** ',' ','   ***   ')"
      ],
      "metadata": {
        "colab": {
          "base_uri": "https://localhost:8080/"
        },
        "id": "CKp2LoXGn1lS",
        "outputId": "b8d8ff95-9bad-48aa-8a22-2cf94a68db41"
      },
      "execution_count": null,
      "outputs": [
        {
          "output_type": "stream",
          "name": "stdout",
          "text": [
            "**      *      ***      **    **       ***   \n",
            "**      *      ***      **   **        ***   \n",
            "* *     *      ***      **  **         ***   \n",
            "*  *    *      ***      ** **          ***   \n",
            "*   *   *      ***      ****           ***   \n",
            "*    *  *      ***      ** **          ***   \n",
            "*     * *      ***      **  **         ***   \n",
            "*      **      ***      **   **        ***   \n",
            "*      **      ***      **    **       ***   \n"
          ]
        }
      ]
    },
    {
      "cell_type": "markdown",
      "source": [
        "## PROG 4: Formatted String Literal\n",
        "\n",
        "Get the name and place of stay of your friend. Based on name determine his or her place of stay. Print the same in following sentence using formatted string concept:\n",
        "Name of my friend is <name> and his/her place of stay is  <place>.\n",
        "\n",
        "> **Input =>** Narayan, Mumbai\n",
        "\n",
        "> **Output =>** `Name of my friend is Narayan and his/her place of stay is Mumbai.`\n",
        "\n",
        "> **Hint =>**\n",
        "1. Use of Python Formatted String Literal (f-String)\n"
      ],
      "metadata": {
        "id": "MKYmKal7mL61"
      }
    },
    {
      "cell_type": "code",
      "source": [
        "help(print)\n",
        "\n",
        "help(input)\n",
        "\n",
        "friend_name = input(\"Enter the friends name \")\n",
        "place = input(\"Enter the name of stay place of your friend: \")\n",
        "\n",
        "\n",
        "print(f\"\\nName of my friend is {friend_name} and his/her place of stay is {place}\")\n"
      ],
      "metadata": {
        "colab": {
          "base_uri": "https://localhost:8080/"
        },
        "id": "BqroGZ1Oq6Am",
        "outputId": "e108b9e0-6814-4dca-b22a-5cb9bbbd6fb0"
      },
      "execution_count": null,
      "outputs": [
        {
          "output_type": "stream",
          "name": "stdout",
          "text": [
            "Help on built-in function print in module builtins:\n",
            "\n",
            "print(...)\n",
            "    print(value, ..., sep=' ', end='\\n', file=sys.stdout, flush=False)\n",
            "    \n",
            "    Prints the values to a stream, or to sys.stdout by default.\n",
            "    Optional keyword arguments:\n",
            "    file:  a file-like object (stream); defaults to the current sys.stdout.\n",
            "    sep:   string inserted between values, default a space.\n",
            "    end:   string appended after the last value, default a newline.\n",
            "    flush: whether to forcibly flush the stream.\n",
            "\n",
            "Help on method raw_input in module ipykernel.kernelbase:\n",
            "\n",
            "raw_input(prompt='') method of google.colab._kernel.Kernel instance\n",
            "    Forward raw_input to frontends\n",
            "    \n",
            "    Raises\n",
            "    ------\n",
            "    StdinNotImplementedError if active frontend doesn't support stdin.\n",
            "\n",
            "Enter the friends name Nehal\n",
            "Enter the name of stay place of your friend: Bengaluru\n",
            "\n",
            "Name of my friend is  Nehal and his/her place of stay is Bengaluru\n"
          ]
        }
      ]
    },
    {
      "cell_type": "markdown",
      "source": [
        "## PROG 5: Compute Square Root\n",
        "\n",
        "Write a Program to calculate the square root of a Number.\n",
        "\n",
        "> **Input =>** Enter a Number. For e.g. 4\n",
        "\n",
        "> **Output =>** `The square root of 4.00 is 2.00`\n",
        "\n",
        "> **Hint =>**\n",
        "1. Square Root of a Number is number<sup>0.5</sup> using `number ** 0.5`\n",
        "2. Print the Square Root with 2 decimal places using Python Format Specifier for floating-point number\n"
      ],
      "metadata": {
        "id": "I9jgI-w4Gjs-"
      }
    },
    {
      "cell_type": "code",
      "source": [
        "number = int(input(\"Enter an integer number: \"))\n",
        "\n",
        "square_root = number ** 0.5\n",
        "\n",
        "print(f\"The square root of {number:.2f} is {square_root:.2f}\")"
      ],
      "metadata": {
        "colab": {
          "base_uri": "https://localhost:8080/"
        },
        "id": "nTcviLxXr7cr",
        "outputId": "cc66168c-34a3-4378-92cf-088ab2d66b71"
      },
      "execution_count": null,
      "outputs": [
        {
          "output_type": "stream",
          "name": "stdout",
          "text": [
            "Enter an integer number: 4\n",
            "The square root of 4.00 is 2.00\n"
          ]
        }
      ]
    },
    {
      "cell_type": "markdown",
      "source": [
        "## PROG 6: Temperature_Conversion\n",
        "\n",
        "Write a Program to take the temperature in Celsius  as input and compute and print the temperature in Fahrenheit using the formula `fahrenheit = (celsius * 9/5) + 32`\n",
        "\n",
        "> **Input =>** Enter celsius. For e.g. 35\n",
        "\n",
        "> **Output =>** `Temperature in Fahrenheit is 95.0 for Celsius 35.0`\n",
        "\n",
        "> **Hint =>**\n",
        "1. Use code `fahrenheit = (celsius * 9/5) + 32` for conversion\n",
        "2. Print the Result with 1 decimal places using Python Format Specifier for floating-point number\n"
      ],
      "metadata": {
        "id": "fXroxZDdhJbI"
      }
    },
    {
      "cell_type": "code",
      "source": [
        "temperature_entered = input(\"Enter the temperature: \")\n",
        "\n",
        "if temperature_entered.isdigit():\n",
        "  temperature = float(temperature_entered)\n",
        "\n",
        "  unit = input(\"Enter the unit of temperature (C for Celsius , F for Fahrenheit): \")\n",
        "  if unit == 'C' or unit == 'c':\n",
        "    converted_temp = (temperature *9/5) + 32\n",
        "    print(f\"Temperature in {temperature:.1f}C is equal to {converted_temp:.1f}F\")\n",
        "  elif unit == 'F' or unit =='f':\n",
        "    converted_temp = (temperature - 32) * 5/9\n",
        "    print(f\"Temperature in {temperature:.1f}F is equal to {converted_temp:.1f}C\")\n",
        "  else:\n",
        "    print(f\"Invalid unit {unit}. Please enter 'C' for Celsius or 'F' for Fahrenheit\")\n",
        "else:\n",
        "  print(f\"Invalid Temperature {temperature_entered}. Please enter digits\")"
      ],
      "metadata": {
        "colab": {
          "base_uri": "https://localhost:8080/"
        },
        "id": "bJi3UUQosswM",
        "outputId": "7eefe6fb-d83f-4593-ca74-e33632e241ac"
      },
      "execution_count": null,
      "outputs": [
        {
          "output_type": "stream",
          "name": "stdout",
          "text": [
            "Enter the temperature: 20\n",
            "Enter the unit of temperature (C for Celsius , F for Fahrenheit): c\n",
            "Temperature in 20.0C is equal to 68.0F\n"
          ]
        }
      ]
    },
    {
      "cell_type": "markdown",
      "source": [
        "## PROG 7: Perimeter and Area of a Rectangle\n",
        "\n",
        "Write a Program to compute and print perimeter and area of a rectangle in inch and inch<sup>2</sup>,  where length and breadth are entered in cm.\n",
        "\n",
        "> **Input =>** Enter length and breadth in centimeters. eg 20 and 30\n",
        "\n",
        "> **Output =>** `Perimeter of the rectangle is 39.37 inches and Area of the rectangle: 93.00 square inches`\n",
        "\n",
        "> **Hint =>**\n",
        "1. Use 1 inch = 2.54 centimeters\n",
        "2. Perimeter = 2 * (length + breadth) and area = length * breadth\n",
        "2. Print the Result with 2 decimal places using Python Format Specifier for floating-point number\n"
      ],
      "metadata": {
        "id": "C1BxKlOXi-J0"
      }
    },
    {
      "cell_type": "code",
      "source": [
        "INCH = 1/2.54\n",
        "\n",
        "length = float(input(\"Enter the length of the rectangle in cm: \"))\n",
        "breadth = float(input(\"Enter the breadth of the rectangle in cm: \"))\n",
        "\n",
        "length_inch = length * INCH\n",
        "breadth_inch = breadth * INCH\n",
        "\n",
        "perimeter_inch = 2 * (length_inch + breadth_inch)\n",
        "area_square_inch = length_inch * breadth_inch\n",
        "\n",
        "print(f\"\\nPerimeter of the rectangle is {perimeter_inch:.2f} inches and \", f\"Area of the rectangle is {area_square_inch:.2f} square inches\")\n"
      ],
      "metadata": {
        "colab": {
          "base_uri": "https://localhost:8080/"
        },
        "id": "mmi_DfL-tc15",
        "outputId": "c442c779-b9a7-47ca-850f-9a1f852de572"
      },
      "execution_count": null,
      "outputs": [
        {
          "output_type": "stream",
          "name": "stdout",
          "text": [
            "Enter the length of the rectangle in cm: 20\n",
            "Enter the breadth of the rectangle in cm: 30\n",
            "\n",
            "Perimeter of the rectangle is 39.37 inches and  Area of the rectangle is 93.00 square inches\n"
          ]
        }
      ]
    },
    {
      "cell_type": "markdown",
      "source": [
        "## PROG 8: Retail Invoicing App\n",
        "\n",
        "A  retail shop-keeper wants to compute the total amount of money he would like to bill to a customer. He  has two types of items : household goods and processed food items.  Household goods have a GST of 5% and processed food items have a GST of 12%..\n",
        "\n",
        "For Retail Invoicing, the seller needs to capture the buyer name, price at which the seller is selling the Household goods and processed food along with the quantity purchased by the buyer.\n",
        "\n",
        "> **Input and Outout =>** Refer Below the sample\n",
        "\n",
        "> **Hint =>** Refer Assisted Practice PROG 7\n",
        "- Print the final amount with Indian Rupee Symbol (Use unicode)\n",
        "\n",
        "```\n",
        "Enter Buyer Name: Narayan\n",
        "Enter Household Good Price: 350\n",
        "Enter Household Good Quantity: 5\n",
        "Enter Processed Food price: 125\n",
        "Enter Processed Food Quantity: 10\n",
        "\n",
        "Buyer Name: Narayan\n",
        "----------------------------------------------------------------------------------\n",
        "|    Item Code    | Price/Unit | #unit |   Price    |    GST     | Total w/ GST |\n",
        "----------------------------------------------------------------------------------\n",
        "| Household Good  |   Rs 350   |  5.0  | Rs 1750.0  |  Rs 87.5   |  Rs 1837.5   |\n",
        "| Processed Food  |   Rs 125   | 10.0  | Rs 1250.0  |  Rs 150.0  |  Rs 1400.0   |\n",
        "----------------------------------------------------------------------------------\n",
        "Total                                                                ₹ 3237.50\n",
        "Total Round                                                          ₹ 3238.00\n",
        "----------------------------------------------------------------------------------\n",
        "\n",
        "```\n",
        "\n"
      ],
      "metadata": {
        "id": "fFilO0RlN4tR"
      }
    },
    {
      "cell_type": "code",
      "source": [
        "# PROG 8: Retail Invoicing App\n",
        "\n",
        "# Write The Code Here\n",
        "\n",
        "HOUSEHOLD_GST = 0.05\n",
        "PROCESSED_GST = 0.12\n",
        "\n",
        "buyer_name = input(\"Enter Buyer Name: \")\n",
        "household_good = int(input(\"Enter Household Good price:\"))\n",
        "household_good_unit = float(input(\"Enter Household good quantity: \"))\n",
        "processed_food = int(input(\"Enter Processed food price:\"))\n",
        "processed_food_unit = float(input(\"Enter Processed food quantity: \"))\n",
        "\n",
        "total_price_household = household_good * household_good_unit\n",
        "total_price_processed = processed_food * processed_food_unit\n",
        "\n",
        "total_gst_household = total_price_household * HOUSEHOLD_GST\n",
        "total_gst_processed = total_price_processed * PROCESSED_GST\n",
        "\n",
        "total_billing_household = total_price_household + total_gst_household\n",
        "total_billing_processed = total_price_processed + total_gst_processed\n",
        "\n",
        "total_amount = total_billing_household + total_billing_processed\n",
        "total_round_amount = round(total_amount)\n",
        "\n",
        "print(f\"\\nBuyer Name: {buyer_name}\")\n",
        "print(f\"{'-'  * 77}\")\n",
        "print(f\"| {'Item Code':^10} | {'Price/Unit':^10} | {'#unit':^5} | {'Price':^8} | {'GST':^10} | {'Total w/ GST':^10} |\")\n",
        "print(f\"{'-'  * 77}\")\n",
        "print(f\"| {'Apple':^10} | {'Rs'+str(household_good):^10} | {household_good_unit:^5} | {'Rs'+ str(total_price_household):^8} | {'Rs'+ str(total_gst_household):^10} | {'Rs'+ str(total_billing_household):^12} |\")\n",
        "print(f\"| {'Orange':^10} | {'Rs'+str(processed_food):^10} | {processed_food_unit:^5} | {'Rs'+ str(total_price_processed):^8} | {'Rs'+ str(total_gst_processed):^10} | {'Rs'+ str(total_billing_processed):^12} |\")\n",
        "print(f\"{'-'  * 77}\")\n",
        "print(f\"Total {' '*55} \\u20B9 {total_amount:.2f}\")\n",
        "print(f\"Total Round {' '*49} \\u20B9 {total_round_amount:.2f}\")\n",
        "print(f\"{'-'  * 77}\")\n",
        "\n"
      ],
      "metadata": {
        "colab": {
          "base_uri": "https://localhost:8080/"
        },
        "id": "qd5ipmfyP5GW",
        "outputId": "f4f8f520-2d0a-4215-d673-0adea0906e1f"
      },
      "execution_count": null,
      "outputs": [
        {
          "output_type": "stream",
          "name": "stdout",
          "text": [
            "Enter Buyer Name: Nikita\n",
            "Enter Household Good price:350\n",
            "Enter Household good quantity: 5\n",
            "Enter Processed food price:125\n",
            "Enter Processed food quantity: 10\n",
            "\n",
            "Buyer Name: Nikita\n",
            "-----------------------------------------------------------------------------\n",
            "| Item Code  | Price/Unit | #unit |  Price   |    GST     | Total w/ GST |\n",
            "-----------------------------------------------------------------------------\n",
            "|   Apple    |   Rs350    |  5.0  | Rs1750.0 |   Rs87.5   |   Rs1837.5   |\n",
            "|   Orange   |   Rs125    | 10.0  | Rs1250.0 |  Rs150.0   |   Rs1400.0   |\n",
            "-----------------------------------------------------------------------------\n",
            "Total                                                         ₹ 3237.50\n",
            "Total Round                                                   ₹ 3238.00\n",
            "-----------------------------------------------------------------------------\n"
          ]
        }
      ]
    }
  ]
}